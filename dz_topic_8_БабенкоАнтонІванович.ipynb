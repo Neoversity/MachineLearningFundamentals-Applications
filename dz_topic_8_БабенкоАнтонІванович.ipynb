{
 "cells": [
  {
   "cell_type": "markdown",
   "id": "c1d7ae40-8c33-4638-b868-6c85fb96bf86",
   "metadata": {},
   "source": [
    "### 1. Здійсніть імпорт необхідних пакетів."
   ]
  },
  {
   "cell_type": "code",
   "execution_count": 1,
   "id": "6476a512-574a-430d-84e8-65361ef1c8a9",
   "metadata": {},
   "outputs": [],
   "source": [
    "import pandas as pd\n",
    "import numpy as np\n",
    "from sklearn.preprocessing import StandardScaler, PowerTransformer, OneHotEncoder\n",
    "from sklearn.neighbors import KNeighborsRegressor\n",
    "from sklearn.metrics import mean_absolute_percentage_error, mean_squared_error, r2_score\n",
    "from category_encoders import TargetEncoder\n",
    "import matplotlib.pyplot as plt\n",
    "import seaborn as sns\n",
    "\n"
   ]
  },
  {
   "cell_type": "markdown",
   "id": "28a5d9c4-b8d2-4f04-8d7a-b541df3e4b76",
   "metadata": {},
   "source": [
    "### 2. Завантажте тренувальний mod_04_hw_train_data.csv і валідаційний mod_04_hw_valid_data.csv"
   ]
  },
  {
   "cell_type": "code",
   "execution_count": 2,
   "id": "f0d1fcf4-3c4c-4a05-acd7-0ef1e74899f7",
   "metadata": {},
   "outputs": [
    {
     "ename": "FileNotFoundError",
     "evalue": "[Errno 2] No such file or directory: 'mod_04_hw_train_data.csv'",
     "output_type": "error",
     "traceback": [
      "Traceback \u001b[1;36m(most recent call last)\u001b[0m:\n",
      "\u001b[0m  Cell \u001b[0;32mIn[2], line 2\u001b[0m\n    train_data = pd.read_csv(\"mod_04_hw_train_data.csv\")\u001b[0m\n",
      "\u001b[0m  File \u001b[0;32mC:\\ProgramData\\anaconda3\\envs\\mlf\\Lib\\site-packages\\pandas\\io\\parsers\\readers.py:1026\u001b[0m in \u001b[0;35mread_csv\u001b[0m\n    return _read(filepath_or_buffer, kwds)\u001b[0m\n",
      "\u001b[0m  File \u001b[0;32mC:\\ProgramData\\anaconda3\\envs\\mlf\\Lib\\site-packages\\pandas\\io\\parsers\\readers.py:620\u001b[0m in \u001b[0;35m_read\u001b[0m\n    parser = TextFileReader(filepath_or_buffer, **kwds)\u001b[0m\n",
      "\u001b[0m  File \u001b[0;32mC:\\ProgramData\\anaconda3\\envs\\mlf\\Lib\\site-packages\\pandas\\io\\parsers\\readers.py:1620\u001b[0m in \u001b[0;35m__init__\u001b[0m\n    self._engine = self._make_engine(f, self.engine)\u001b[0m\n",
      "\u001b[0m  File \u001b[0;32mC:\\ProgramData\\anaconda3\\envs\\mlf\\Lib\\site-packages\\pandas\\io\\parsers\\readers.py:1880\u001b[0m in \u001b[0;35m_make_engine\u001b[0m\n    self.handles = get_handle(\u001b[0m\n",
      "\u001b[1;36m  File \u001b[1;32mC:\\ProgramData\\anaconda3\\envs\\mlf\\Lib\\site-packages\\pandas\\io\\common.py:873\u001b[1;36m in \u001b[1;35mget_handle\u001b[1;36m\n\u001b[1;33m    handle = open(\u001b[1;36m\n",
      "\u001b[1;31mFileNotFoundError\u001b[0m\u001b[1;31m:\u001b[0m [Errno 2] No such file or directory: 'mod_04_hw_train_data.csv'\n"
     ]
    }
   ],
   "source": [
    "# Завантаження тренувального набору\n",
    "train_data = pd.read_csv(\"mod_04_hw_train_data.csv\")\n",
    "\n",
    "# Завантаження валідаційного набору\n",
    "valid_data = pd.read_csv(\"mod_04_hw_valid_data.csv\")\n",
    "\n",
    "# Виведемо перші рядки для огляду даних\n",
    "train_data.head(), valid_data.head()\n"
   ]
  },
  {
   "cell_type": "markdown",
   "id": "60e1811b-bf85-4205-8068-f42045eafc44",
   "metadata": {},
   "source": [
    "### 3. Виконайте первинний дослідницький аналіз даних (EDA), визначте придатність і доцільність використання наявних в наборі ознак для моделювання."
   ]
  },
  {
   "cell_type": "code",
   "execution_count": null,
   "id": "d863ebae-2a81-42a6-bcc7-416b90ae454d",
   "metadata": {},
   "outputs": [],
   "source": [
    "# Перевіримо наявність пропусків у тренувальному та валідаційному наборах даних\n",
    "missing_train = train_data.isnull().sum()\n",
    "missing_valid = valid_data.isnull().sum()"
   ]
  },
  {
   "cell_type": "code",
   "execution_count": null,
   "id": "c775534d-0e52-4b16-9e83-7e3542868a7e",
   "metadata": {},
   "outputs": [],
   "source": [
    "missing_data_analysis = pd.DataFrame({\n",
    "    \"Train Missing Before\": missing_train,\n",
    "    \"Train Missing After\": train_data.isnull().sum(),\n",
    "    \"Valid Missing Before\": missing_valid,\n",
    "    \"Valid Missing After\": valid_data.isnull().sum()\n",
    "})\n",
    "\n",
    "# Виведемо результати аналізу пропусків у текстовому форматі\n",
    "print(\"Аналіз пропусків у тренувальному наборі даних:\")\n",
    "print(missing_data_analysis[[\"Train Missing Before\", \"Train Missing After\"]])\n",
    "\n",
    "print(\"\\nАналіз пропусків у валідаційному наборі даних:\")\n",
    "print(missing_data_analysis[[\"Valid Missing Before\", \"Valid Missing After\"]])"
   ]
  },
  {
   "cell_type": "code",
   "execution_count": 3,
   "id": "dfd37dc9-8510-4c5b-8cf3-0bea235ab1cf",
   "metadata": {},
   "outputs": [
    {
     "ename": "NameError",
     "evalue": "name 'train_data' is not defined",
     "output_type": "error",
     "traceback": [
      "Traceback \u001b[1;36m(most recent call last)\u001b[0m:\n",
      "\u001b[1;36m  Cell \u001b[1;32mIn[3], line 4\u001b[1;36m\n\u001b[1;33m    train_data.drop(columns=['Name', 'Phone_Number'], inplace=True)\u001b[1;36m\n",
      "\u001b[1;31mNameError\u001b[0m\u001b[1;31m:\u001b[0m name 'train_data' is not defined\n"
     ]
    }
   ],
   "source": [
    "from datetime import datetime\n",
    "\n",
    "# Видалимо стовпці 'Name' та 'Phone_Number'\n",
    "train_data.drop(columns=['Name', 'Phone_Number'], inplace=True)\n",
    "valid_data.drop(columns=['Name', 'Phone_Number'], inplace=True)\n",
    "\n",
    "# Перетворимо 'Date_Of_Birth' у вік (кількість років)\n",
    "current_year = datetime.now().year\n",
    "\n",
    "train_data['Age'] = train_data['Date_Of_Birth'].apply(lambda x: current_year - int(x.split('/')[-1]))\n",
    "valid_data['Age'] = valid_data['Date_Of_Birth'].apply(lambda x: current_year - int(x.split('/')[-1]))\n",
    "\n",
    "# Видалимо стовпець 'Date_Of_Birth', оскільки ми вже отримали вік\n",
    "train_data.drop(columns=['Date_Of_Birth'], inplace=True)\n",
    "valid_data.drop(columns=['Date_Of_Birth'], inplace=True)\n",
    "\n",
    "# Перевіримо, як тепер виглядають набори даних\n",
    "train_data.head(), valid_data.head()\n"
   ]
  },
  {
   "cell_type": "code",
   "execution_count": 4,
   "id": "4d4a2db5-838b-4eee-9c5e-66d295fc466e",
   "metadata": {},
   "outputs": [
    {
     "ename": "NameError",
     "evalue": "name 'train_data' is not defined",
     "output_type": "error",
     "traceback": [
      "Traceback \u001b[1;36m(most recent call last)\u001b[0m:\n",
      "\u001b[1;36m  Cell \u001b[1;32mIn[4], line 2\u001b[1;36m\n\u001b[1;33m    train_data.fillna({\u001b[1;36m\n",
      "\u001b[1;31mNameError\u001b[0m\u001b[1;31m:\u001b[0m name 'train_data' is not defined\n"
     ]
    }
   ],
   "source": [
    "# Заповнимо пропуски у тренувальному наборі\n",
    "train_data.fillna({\n",
    "    'Experience': train_data['Experience'].mean(),\n",
    "    'Qualification': train_data['Qualification'].mode()[0],\n",
    "    'Role': train_data['Role'].mode()[0],\n",
    "    'Cert': train_data['Cert'].mode()[0]\n",
    "}, inplace=True)\n",
    "\n",
    "# Перевіримо, чи залишилися пропуски\n",
    "missing_train_final = train_data.isnull().sum()\n",
    "missing_train_final\n"
   ]
  },
  {
   "cell_type": "markdown",
   "id": "c74af3e8-62a0-4717-bac4-f0d6db655501",
   "metadata": {},
   "source": [
    "### Крок 4: Масштабування числових ознак"
   ]
  },
  {
   "cell_type": "code",
   "execution_count": 7,
   "id": "0d307eb2-08bb-4a9c-9dda-d28b6a52d0c2",
   "metadata": {},
   "outputs": [
    {
     "data": {
      "text/plain": [
       "(  Qualification University    Role Cert  Salary       Age Experience_Category\n",
       " 0           Msc      Tier2     Mid  Yes   98000  1.346807                 Mid\n",
       " 1           PhD      Tier2  Senior  Yes  135500 -2.079446                 Mid\n",
       " 2           Msc      Tier2  Senior  Yes  123500 -1.160208                 Mid\n",
       " 3           Bsc      Tier3     Mid   No   85000  1.513942                 Mid\n",
       " 4           Bsc      Tier2  Senior  Yes  111500  1.513942                 Mid,\n",
       "   Qualification University    Role Cert  Salary       Age Experience_Category\n",
       " 0           Msc      Tier2     Mid  Yes   98000  1.407452                 Mid\n",
       " 1           PhD      Tier2  Senior  Yes  135500 -1.945406                 Mid\n",
       " 2           Msc      Tier2  Senior  Yes  123500 -1.172305                 Mid\n",
       " 3           Bsc      Tier3     Mid   No   85000  1.597059                 Mid\n",
       " 4           Bsc      Tier2  Senior  Yes  111500  1.597059                 Mid)"
      ]
     },
     "execution_count": 7,
     "metadata": {},
     "output_type": "execute_result"
    }
   ],
   "source": [
    "# Крок 4: Масштабування числових ознак\n",
    "\n",
    "# Категоризація змінної 'Experience'\n",
    "def categorize_experience(years):\n",
    "    if years < 3:\n",
    "        return 'Junior'\n",
    "    elif 3 <= years <= 7:\n",
    "        return 'Mid'\n",
    "    else:\n",
    "        return 'Senior'\n",
    "\n",
    "# Додаємо категорію до тренувального та валідаційного наборів\n",
    "train_data['Experience_Category'] = train_data['Experience'].apply(categorize_experience)\n",
    "valid_data['Experience_Category'] = valid_data['Experience'].apply(categorize_experience)\n",
    "\n",
    "# Видаляємо числову ознаку 'Experience'\n",
    "train_data.drop(columns=['Experience'], inplace=True)\n",
    "valid_data.drop(columns=['Experience'], inplace=True)\n",
    "\n",
    "# Масштабування лише числових змінних\n",
    "numerical_features = ['Age']  # Лише 'Age', оскільки 'Experience' тепер є категоріальною\n",
    "\n",
    "# Ініціалізація трансформерів\n",
    "scaler_standard = StandardScaler()\n",
    "scaler_power = PowerTransformer()\n",
    "\n",
    "# Копіюємо дані для масштабування\n",
    "train_data_standard = train_data.copy()\n",
    "valid_data_standard = valid_data.copy()\n",
    "\n",
    "train_data_power = train_data.copy()\n",
    "valid_data_power = valid_data.copy()\n",
    "\n",
    "# Масштабування за допомогою StandardScaler\n",
    "train_data_standard[numerical_features] = scaler_standard.fit_transform(train_data[numerical_features])\n",
    "valid_data_standard[numerical_features] = scaler_standard.transform(valid_data[numerical_features])\n",
    "\n",
    "# Масштабування за допомогою PowerTransformer\n",
    "train_data_power[numerical_features] = scaler_power.fit_transform(train_data[numerical_features])\n",
    "valid_data_power[numerical_features] = scaler_power.transform(valid_data[numerical_features])\n",
    "\n",
    "# Перевіримо результати\n",
    "train_data_standard.head(), train_data_power.head()\n"
   ]
  },
  {
   "cell_type": "code",
   "execution_count": 8,
   "id": "1edb55bb-0fcd-45da-a676-3097c5c7f3ca",
   "metadata": {},
   "outputs": [],
   "source": [
    "# Ініціалізація TargetEncoder\n",
    "encoder = TargetEncoder()\n",
    "\n",
    "# Визначення категоріальних і числових змінних\n",
    "categorical_features = ['Qualification', 'University', 'Role', 'Cert', 'Experience_Category']\n",
    "numerical_features = ['Age']\n",
    "\n",
    "# Копіюємо дані для масштабування\n",
    "train_data_encoded = train_data.copy()\n",
    "valid_data_encoded = valid_data.copy()\n",
    "\n",
    "# Кодуємо категоріальні змінні TargetEncoding\n",
    "for col in categorical_features:\n",
    "    train_data_encoded[col] = encoder.fit_transform(train_data[col], train_data['Salary'])\n",
    "    valid_data_encoded[col] = encoder.transform(valid_data[col])\n",
    "\n",
    "# Об'єднуємо числові та закодовані ознаки\n",
    "all_features = numerical_features + categorical_features\n",
    "\n",
    "# Масштабування всіх ознак\n",
    "scaler_standard = StandardScaler()\n",
    "scaler_power = PowerTransformer()"
   ]
  },
  {
   "cell_type": "code",
   "execution_count": 9,
   "id": "89cae6fa-0a23-4a41-a433-1b1f01d2d09b",
   "metadata": {},
   "outputs": [],
   "source": [
    "# Масштабування для StandardScaler\n",
    "train_data_standard = train_data_encoded.copy()\n",
    "valid_data_standard = valid_data_encoded.copy()\n",
    "\n",
    "train_data_standard[all_features] = scaler_standard.fit_transform(train_data_encoded[all_features])\n",
    "valid_data_standard[all_features] = scaler_standard.transform(valid_data_encoded[all_features])\n",
    "\n",
    "# Масштабування для PowerTransformer\n",
    "train_data_power = train_data_encoded.copy()\n",
    "valid_data_power = valid_data_encoded.copy()\n",
    "\n",
    "train_data_power[all_features] = scaler_power.fit_transform(train_data_encoded[all_features])\n",
    "valid_data_power[all_features] = scaler_power.transform(valid_data_encoded[all_features])"
   ]
  },
  {
   "cell_type": "code",
   "execution_count": 10,
   "id": "2d6c5537-32aa-46fa-a21a-b2ac5b0c4ac9",
   "metadata": {},
   "outputs": [],
   "source": [
    "# Розділення даних\n",
    "X_train_standard = train_data_standard.drop(columns=['Salary'])\n",
    "y_train_standard = train_data_standard['Salary']\n",
    "\n",
    "X_valid_standard = valid_data_standard.drop(columns=['Salary'])\n",
    "y_valid_standard = valid_data_standard['Salary']\n",
    "\n",
    "X_train_power = train_data_power.drop(columns=['Salary'])\n",
    "y_train_power = train_data_power['Salary']\n",
    "\n",
    "X_valid_power = valid_data_power.drop(columns=['Salary'])\n",
    "y_valid_power = valid_data_power['Salary']\n",
    "\n"
   ]
  },
  {
   "cell_type": "code",
   "execution_count": 12,
   "id": "b82ace0d-dbfc-4e25-9c0b-0f477389c49c",
   "metadata": {},
   "outputs": [
    {
     "name": "stdout",
     "output_type": "stream",
     "text": [
      "Найкраще значення n_neighbors: 3\n",
      "MAPE для найкращого значення n_neighbors: 6.71%\n",
      "Validation Results with Optimized n_neighbors:\n",
      " - Validation MAPE: 12.69%\n",
      " - Validation MSE: 171222857.14\n",
      " - Validation R2: 0.32\n"
     ]
    }
   ],
   "source": [
    "# Оптимізація n_neighbors для KNeighborsRegressor\n",
    "from sklearn.model_selection import GridSearchCV\n",
    "\n",
    "knn = KNeighborsRegressor()\n",
    "param_grid = {'n_neighbors': range(1, 50)}\n",
    "grid_search = GridSearchCV(estimator=knn, param_grid=param_grid, scoring='neg_mean_absolute_percentage_error', cv=5, n_jobs=-1)\n",
    "\n",
    "X_train = train_data_standard.drop(columns=['Salary'])\n",
    "y_train = train_data_standard['Salary']\n",
    "\n",
    "grid_search.fit(X_train, y_train)\n",
    "\n",
    "best_n_neighbors = grid_search.best_params_['n_neighbors']\n",
    "best_score = -grid_search.best_score_\n",
    "\n",
    "print(f\"Найкраще значення n_neighbors: {best_n_neighbors}\")\n",
    "print(f\"MAPE для найкращого значення n_neighbors: {best_score:.2%}\")\n",
    "\n",
    "# Крок 5: Навчання моделі з оптимальним n_neighbors\n",
    "best_knn_model = KNeighborsRegressor(n_neighbors=best_n_neighbors)\n",
    "best_knn_model.fit(X_train, y_train)\n",
    "\n",
    "# Підготовка валідаційного набору\n",
    "X_valid = valid_data_standard.drop(columns=['Salary'])\n",
    "y_valid = valid_data_standard['Salary']\n",
    "\n",
    "# Продовження виконання моделі\n",
    "y_pred = best_knn_model.predict(X_valid)\n",
    "final_mape = mean_absolute_percentage_error(y_valid, y_pred)\n",
    "final_mse = mean_squared_error(y_valid, y_pred)\n",
    "final_r2 = r2_score(y_valid, y_pred)\n",
    "\n",
    "print(f\"Validation Results with Optimized n_neighbors:\")\n",
    "print(f\" - Validation MAPE: {final_mape:.2%}\")\n",
    "print(f\" - Validation MSE: {final_mse:.2f}\")\n",
    "print(f\" - Validation R2: {final_r2:.2f}\")"
   ]
  },
  {
   "cell_type": "code",
   "execution_count": null,
   "id": "91256e5f-e506-4862-b3d1-dc6bee35738a",
   "metadata": {},
   "outputs": [],
   "source": []
  }
 ],
 "metadata": {
  "kernelspec": {
   "display_name": "Python 3 (Spyder)",
   "language": "python3",
   "name": "python3"
  },
  "language_info": {
   "codemirror_mode": {
    "name": "ipython",
    "version": 3
   },
   "file_extension": ".py",
   "mimetype": "text/x-python",
   "name": "python",
   "nbconvert_exporter": "python",
   "pygments_lexer": "ipython3",
   "version": "3.11.10"
  }
 },
 "nbformat": 4,
 "nbformat_minor": 5
}
