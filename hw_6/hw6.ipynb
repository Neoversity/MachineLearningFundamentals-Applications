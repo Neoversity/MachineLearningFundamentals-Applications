{
 "cells": [
  {
   "cell_type": "markdown",
   "id": "fe88256f-2113-4085-9d2b-8d41da7d75fc",
   "metadata": {},
   "source": [
    "## Домашнє завдання до модуля «Алгоритми навчання з вчителем Ч.2»"
   ]
  },
  {
   "cell_type": "markdown",
   "id": "3da23e0c-974b-4517-a7af-2485924214fd",
   "metadata": {},
   "source": [
    "### 1. Здійсніть імпорт необхідних пакетів."
   ]
  },
  {
   "cell_type": "code",
   "execution_count": 1,
   "id": "d7060ba5-ba9b-4568-9e30-bb86d1e72bf0",
   "metadata": {},
   "outputs": [],
   "source": [
    "import pandas as pd\n",
    "import numpy as np\n",
    "from sklearn.model_selection import train_test_split\n",
    "from sklearn.linear_model import LogisticRegression\n",
    "from sklearn.metrics import classification_report, confusion_matrix, roc_auc_score\n"
   ]
  },
  {
   "cell_type": "markdown",
   "id": "8eee355c-09b2-46cd-bb52-761f44248f87",
   "metadata": {},
   "source": [
    " ### 2. Завантажте набір даних Rain in Australia"
   ]
  },
  {
   "cell_type": "code",
   "execution_count": 2,
   "id": "eb5a2c80-9131-4287-8b82-40ddb9b7a6bb",
   "metadata": {},
   "outputs": [
    {
     "name": "stdout",
     "output_type": "stream",
     "text": [
      "         Date Location  MinTemp  ...  Temp3pm  RainToday  RainTomorrow\n",
      "0  2008-12-01   Albury     13.4  ...     21.8         No            No\n",
      "1  2008-12-02   Albury      7.4  ...     24.3         No            No\n",
      "2  2008-12-03   Albury     12.9  ...     23.2         No            No\n",
      "3  2008-12-04   Albury      9.2  ...     26.5         No            No\n",
      "4  2008-12-05   Albury     17.5  ...     29.7         No            No\n",
      "\n",
      "[5 rows x 23 columns]\n"
     ]
    }
   ],
   "source": [
    "\n",
    "df = pd.read_csv('rain.csv')\n",
    "print(df.head())\n"
   ]
  },
  {
   "cell_type": "code",
   "execution_count": 3,
   "id": "e532c8eb-e6a0-4875-b29c-9d51a3f7d5e9",
   "metadata": {},
   "outputs": [
    {
     "name": "stdout",
     "output_type": "stream",
     "text": [
      "Date                 0\n",
      "Location             0\n",
      "MinTemp           1485\n",
      "MaxTemp           1261\n",
      "Rainfall          3261\n",
      "Evaporation      62790\n",
      "Sunshine         69835\n",
      "WindGustDir      10326\n",
      "WindGustSpeed    10263\n",
      "WindDir9am       10566\n",
      "WindDir3pm        4228\n",
      "WindSpeed9am      1767\n",
      "WindSpeed3pm      3062\n",
      "Humidity9am       2654\n",
      "Humidity3pm       4507\n",
      "Pressure9am      15065\n",
      "Pressure3pm      15028\n",
      "Cloud9am         55888\n",
      "Cloud3pm         59358\n",
      "Temp9am           1767\n",
      "Temp3pm           3609\n",
      "RainToday         3261\n",
      "RainTomorrow      3267\n",
      "dtype: int64\n"
     ]
    }
   ],
   "source": [
    "# Підрахунок пропущених значень\n",
    "missing_values = df.isnull().sum()\n",
    "\n",
    "# Відображення кількості пропущених значень у кожному стовпці\n",
    "print(missing_values)"
   ]
  },
  {
   "cell_type": "markdown",
   "id": "47883a76-ab01-40a0-94cd-f8e50ea23958",
   "metadata": {},
   "source": [
    "### 3: Видалення ознак з великою кількістю пропущених значень"
   ]
  },
  {
   "cell_type": "code",
   "execution_count": 4,
   "id": "8bc86654-de45-48f0-a517-41be27e4d300",
   "metadata": {},
   "outputs": [
    {
     "name": "stdout",
     "output_type": "stream",
     "text": [
      "Оновлений набір даних:\n",
      "          Date Location  MinTemp  ...  Temp3pm  RainToday RainTomorrow\n",
      "0  2008-12-01   Albury     13.4  ...     21.8         No           No\n",
      "1  2008-12-02   Albury      7.4  ...     24.3         No           No\n",
      "2  2008-12-03   Albury     12.9  ...     23.2         No           No\n",
      "3  2008-12-04   Albury      9.2  ...     26.5         No           No\n",
      "4  2008-12-05   Albury     17.5  ...     29.7         No           No\n",
      "\n",
      "[5 rows x 19 columns]\n"
     ]
    }
   ],
   "source": [
    "# Видалення ознак з понад 30% пропущених значень\n",
    "threshold = 0.3  # 30% пропущених значень\n",
    "columns_to_keep = missing_values[missing_values / len(df) <= threshold].index\n",
    "\n",
    "# Фільтрація датасету\n",
    "df = df[columns_to_keep]\n",
    "\n",
    "# Перевіримо результат\n",
    "print(\"Оновлений набір даних:\\n\", df.head())"
   ]
  },
  {
   "cell_type": "markdown",
   "id": "45908ebe-7de2-4b33-af15-b280b4ebf25b",
   "metadata": {},
   "source": [
    "### 3.2. Створіть підмножини набору даних із числовими та категоріальними ознаками."
   ]
  },
  {
   "cell_type": "code",
   "execution_count": 5,
   "id": "b4a8ef40-35a0-48f5-8a32-b7428b4b9587",
   "metadata": {},
   "outputs": [
    {
     "name": "stdout",
     "output_type": "stream",
     "text": [
      "Date              object\n",
      "Location          object\n",
      "MinTemp          float64\n",
      "MaxTemp          float64\n",
      "Rainfall         float64\n",
      "WindGustDir       object\n",
      "WindGustSpeed    float64\n",
      "WindDir9am        object\n",
      "WindDir3pm        object\n",
      "WindSpeed9am     float64\n",
      "WindSpeed3pm     float64\n",
      "Humidity9am      float64\n",
      "Humidity3pm      float64\n",
      "Pressure9am      float64\n",
      "Pressure3pm      float64\n",
      "Temp9am          float64\n",
      "Temp3pm          float64\n",
      "RainToday         object\n",
      "RainTomorrow      object\n",
      "dtype: object\n"
     ]
    }
   ],
   "source": [
    "# Перевірка типів даних\n",
    "print(df.dtypes)\n"
   ]
  },
  {
   "cell_type": "code",
   "execution_count": 6,
   "id": "f8e1ab52-285d-4bab-b697-595117ee96c5",
   "metadata": {},
   "outputs": [
    {
     "name": "stdout",
     "output_type": "stream",
     "text": [
      "Числові ознаки:\n",
      "    MinTemp  MaxTemp  Rainfall  ...  Pressure3pm  Temp9am  Temp3pm\n",
      "0     13.4     22.9       0.6  ...       1007.1     16.9     21.8\n",
      "1      7.4     25.1       0.0  ...       1007.8     17.2     24.3\n",
      "2     12.9     25.7       0.0  ...       1008.7     21.0     23.2\n",
      "3      9.2     28.0       0.0  ...       1012.8     18.1     26.5\n",
      "4     17.5     32.3       1.0  ...       1006.0     17.8     29.7\n",
      "\n",
      "[5 rows x 12 columns]\n",
      "Категоріальні ознаки:\n",
      "          Date Location WindGustDir WindDir9am WindDir3pm RainToday RainTomorrow\n",
      "0  2008-12-01   Albury           W          W        WNW        No           No\n",
      "1  2008-12-02   Albury         WNW        NNW        WSW        No           No\n",
      "2  2008-12-03   Albury         WSW          W        WSW        No           No\n",
      "3  2008-12-04   Albury          NE         SE          E        No           No\n",
      "4  2008-12-05   Albury           W        ENE         NW        No           No\n"
     ]
    }
   ],
   "source": [
    "# Вибір числових ознак\n",
    "numeric_features = df.select_dtypes(include=['int64', 'float64'])\n",
    "\n",
    "# Вибір категоріальних ознак\n",
    "categorical_features = df.select_dtypes(include=['object'])\n",
    "\n",
    "# Перевіримо підмножини\n",
    "print(\"Числові ознаки:\\n\", numeric_features.head())\n",
    "print(\"Категоріальні ознаки:\\n\", categorical_features.head())\n"
   ]
  },
  {
   "cell_type": "code",
   "execution_count": 7,
   "id": "b883627d-ca29-4af1-aa2f-c7fef1589469",
   "metadata": {},
   "outputs": [],
   "source": [
    "# Збереження підмножин\n",
    "numeric_data = numeric_features\n",
    "categorical_data = categorical_features"
   ]
  },
  {
   "cell_type": "markdown",
   "id": "3b464aee-837b-4e48-a74a-cfa371a21083",
   "metadata": {},
   "source": [
    "### 3.3. Змініть тип колонки Date на тип datetimeі створіть додаткові колонки Year та Month."
   ]
  },
  {
   "cell_type": "code",
   "execution_count": 8,
   "id": "c38b4acf-37f0-4250-940d-96e20789fdbf",
   "metadata": {},
   "outputs": [
    {
     "name": "stdout",
     "output_type": "stream",
     "text": [
      "datetime64[ns]\n"
     ]
    }
   ],
   "source": [
    "# Зміна типу колонки Date на datetime\n",
    "df['Date'] = pd.to_datetime(df['Date'])\n",
    "\n",
    "# Перевірка змін\n",
    "print(df['Date'].dtypes)"
   ]
  },
  {
   "cell_type": "code",
   "execution_count": 10,
   "id": "b4c950c5-05da-46ba-bf66-ed68cd3e99af",
   "metadata": {},
   "outputs": [
    {
     "name": "stdout",
     "output_type": "stream",
     "text": [
      "        Date  Year  Month\n",
      "0 2008-12-01  2008     12\n",
      "1 2008-12-02  2008     12\n",
      "2 2008-12-03  2008     12\n",
      "3 2008-12-04  2008     12\n",
      "4 2008-12-05  2008     12\n"
     ]
    }
   ],
   "source": [
    "# Створення нових колонок Year і Month\n",
    "df['Year'] = df['Date'].dt.year\n",
    "df['Month'] = df['Date'].dt.month\n",
    "\n",
    "# Перевірка результату\n",
    "print(df[['Date', 'Year', 'Month']].head())\n"
   ]
  },
  {
   "cell_type": "markdown",
   "id": "0c48b031-7caa-4684-a42d-3f019f9f7a0d",
   "metadata": {},
   "source": [
    "###  3.4. Переміcтить створену нову колонку Year з підмножини набору із категоріальними ознаками до підмножини із числовими ознаками."
   ]
  },
  {
   "cell_type": "code",
   "execution_count": 11,
   "id": "409df33c-d564-4000-be03-9f72c71de6d0",
   "metadata": {},
   "outputs": [],
   "source": [
    "# Видалення Year з категоріальних ознак\n",
    "if 'Year' in categorical_data.columns:\n",
    "    categorical_data = categorical_data.drop(columns=['Year'])\n"
   ]
  },
  {
   "cell_type": "code",
   "execution_count": 12,
   "id": "712ed7e3-ec46-4118-a22b-8af9656f69d5",
   "metadata": {},
   "outputs": [],
   "source": [
    "# Додавання Year до числових ознак\n",
    "numeric_data['Year'] = df['Year']\n"
   ]
  },
  {
   "cell_type": "code",
   "execution_count": 13,
   "id": "cfc046f0-5cec-48a8-827a-19163f121f53",
   "metadata": {},
   "outputs": [
    {
     "name": "stdout",
     "output_type": "stream",
     "text": [
      "Оновлені числові ознаки:\n",
      "    MinTemp  MaxTemp  Rainfall  ...  Temp9am  Temp3pm  Year\n",
      "0     13.4     22.9       0.6  ...     16.9     21.8  2008\n",
      "1      7.4     25.1       0.0  ...     17.2     24.3  2008\n",
      "2     12.9     25.7       0.0  ...     21.0     23.2  2008\n",
      "3      9.2     28.0       0.0  ...     18.1     26.5  2008\n",
      "4     17.5     32.3       1.0  ...     17.8     29.7  2008\n",
      "\n",
      "[5 rows x 13 columns]\n",
      "Оновлені категоріальні ознаки:\n",
      "          Date Location WindGustDir WindDir9am WindDir3pm RainToday RainTomorrow\n",
      "0  2008-12-01   Albury           W          W        WNW        No           No\n",
      "1  2008-12-02   Albury         WNW        NNW        WSW        No           No\n",
      "2  2008-12-03   Albury         WSW          W        WSW        No           No\n",
      "3  2008-12-04   Albury          NE         SE          E        No           No\n",
      "4  2008-12-05   Albury           W        ENE         NW        No           No\n"
     ]
    }
   ],
   "source": [
    "# Перевірка оновлених підмножин\n",
    "print(\"Оновлені числові ознаки:\\n\", numeric_data.head())\n",
    "print(\"Оновлені категоріальні ознаки:\\n\", categorical_data.head())\n"
   ]
  },
  {
   "cell_type": "markdown",
   "id": "5075a2a7-2323-4fc5-9375-ad86a2d7b3f5",
   "metadata": {},
   "source": [
    "### 3.5. Розбийте підмножини на тренувальну і тестову вибірки за такою логікою: до тестової вибірки віднесіть всі об'єкти із набору даних із останнім (максимальним) роком спостережень, а для навчання моделі залиште всі інші об'єкти."
   ]
  },
  {
   "cell_type": "code",
   "execution_count": 14,
   "id": "dcf9981e-a9b9-4b03-af7f-dc3a70d66fb9",
   "metadata": {},
   "outputs": [
    {
     "name": "stdout",
     "output_type": "stream",
     "text": [
      "Максимальний рік спостережень: 2017\n"
     ]
    }
   ],
   "source": [
    "# Знаходимо максимальний рік\n",
    "max_year = df['Year'].max()\n",
    "print(f\"Максимальний рік спостережень: {max_year}\")\n"
   ]
  },
  {
   "cell_type": "code",
   "execution_count": 15,
   "id": "fd80f98f-8ef2-4a4d-9bc1-ca5702f9ec7f",
   "metadata": {},
   "outputs": [
    {
     "name": "stdout",
     "output_type": "stream",
     "text": [
      "Розмір тренувальної вибірки: 136837\n",
      "Розмір тестової вибірки: 8623\n"
     ]
    }
   ],
   "source": [
    "# Розділення даних\n",
    "train_data = df[df['Year'] < max_year]\n",
    "test_data = df[df['Year'] == max_year]\n",
    "\n",
    "# Перевірка розмірів вибірок\n",
    "print(f\"Розмір тренувальної вибірки: {len(train_data)}\")\n",
    "print(f\"Розмір тестової вибірки: {len(test_data)}\")\n"
   ]
  },
  {
   "cell_type": "code",
   "execution_count": 16,
   "id": "1b5f0d66-50c9-4c14-a925-f22186ca028a",
   "metadata": {},
   "outputs": [
    {
     "name": "stdout",
     "output_type": "stream",
     "text": [
      "Унікальні роки в тренувальній вибірці: [2008 2009 2010 2011 2012 2013 2014 2015 2016 2007]\n",
      "Унікальні роки в тестовій вибірці: [2017]\n"
     ]
    }
   ],
   "source": [
    "# Перевірка унікальних значень в колонці Year\n",
    "print(\"Унікальні роки в тренувальній вибірці:\", train_data['Year'].unique())\n",
    "print(\"Унікальні роки в тестовій вибірці:\", test_data['Year'].unique())\n"
   ]
  },
  {
   "cell_type": "markdown",
   "id": "5e9acf9f-2541-42f1-a112-4dd3435a97ea",
   "metadata": {},
   "source": [
    "### 4. Відновіть пропущені дані за допомогою об'єкта SimpleImputer з пакету sklearn."
   ]
  },
  {
   "cell_type": "code",
   "execution_count": 17,
   "id": "6109d549-ce07-4729-a1a5-ef1cf66a41c6",
   "metadata": {},
   "outputs": [],
   "source": [
    "from sklearn.impute import SimpleImputer"
   ]
  },
  {
   "cell_type": "code",
   "execution_count": 18,
   "id": "d9685a28-5d24-4c01-8eab-0221c23f6c79",
   "metadata": {},
   "outputs": [
    {
     "name": "stdout",
     "output_type": "stream",
     "text": [
      "   MinTemp  MaxTemp  Rainfall  ...  Temp9am  Temp3pm    Year\n",
      "0     13.4     22.9       0.6  ...     16.9     21.8  2008.0\n",
      "1      7.4     25.1       0.0  ...     17.2     24.3  2008.0\n",
      "2     12.9     25.7       0.0  ...     21.0     23.2  2008.0\n",
      "3      9.2     28.0       0.0  ...     18.1     26.5  2008.0\n",
      "4     17.5     32.3       1.0  ...     17.8     29.7  2008.0\n",
      "\n",
      "[5 rows x 13 columns]\n"
     ]
    }
   ],
   "source": [
    "# Імп'ютер для числових даних (стратегія: середнє значення)\n",
    "numeric_imputer = SimpleImputer(strategy='mean')\n",
    "\n",
    "# Застосування імп'ютера до числових ознак\n",
    "numeric_data_imputed = pd.DataFrame(numeric_imputer.fit_transform(numeric_data), columns=numeric_data.columns)\n",
    "\n",
    "# Перевірка результату\n",
    "print(numeric_data_imputed.head())\n"
   ]
  },
  {
   "cell_type": "code",
   "execution_count": 19,
   "id": "50afca87-4157-43c9-a6ed-b4196579a20c",
   "metadata": {},
   "outputs": [
    {
     "name": "stdout",
     "output_type": "stream",
     "text": [
      "         Date Location WindGustDir WindDir9am WindDir3pm RainToday RainTomorrow\n",
      "0  2008-12-01   Albury           W          W        WNW        No           No\n",
      "1  2008-12-02   Albury         WNW        NNW        WSW        No           No\n",
      "2  2008-12-03   Albury         WSW          W        WSW        No           No\n",
      "3  2008-12-04   Albury          NE         SE          E        No           No\n",
      "4  2008-12-05   Albury           W        ENE         NW        No           No\n"
     ]
    }
   ],
   "source": [
    "# Імп'ютер для категоріальних даних (стратегія: найчастіше значення)\n",
    "categorical_imputer = SimpleImputer(strategy='most_frequent')\n",
    "\n",
    "# Застосування імп'ютера до категоріальних ознак\n",
    "categorical_data_imputed = pd.DataFrame(categorical_imputer.fit_transform(categorical_data), columns=categorical_data.columns)\n",
    "\n",
    "# Перевірка результату\n",
    "print(categorical_data_imputed.head())\n"
   ]
  },
  {
   "cell_type": "markdown",
   "id": "7ede9644-8915-44de-8c02-5b06c7e93221",
   "metadata": {},
   "source": [
    "### 5. Нормалізуйте числові ознаки за допомогою об'єкта StandardScaler з пакету sklearn."
   ]
  },
  {
   "cell_type": "code",
   "execution_count": 20,
   "id": "1ca9614b-0924-4b6e-a21c-0a8f92142877",
   "metadata": {},
   "outputs": [],
   "source": [
    "from sklearn.preprocessing import StandardScaler\n",
    "\n"
   ]
  },
  {
   "cell_type": "code",
   "execution_count": 21,
   "id": "6fda2945-1784-4252-97b0-b5d93d81ca3c",
   "metadata": {},
   "outputs": [
    {
     "name": "stdout",
     "output_type": "stream",
     "text": [
      "    MinTemp   MaxTemp  Rainfall  ...   Temp9am   Temp3pm      Year\n",
      "0  0.189447 -0.045336 -0.210072  ... -0.014053  0.017023 -1.879575\n",
      "1 -0.753101  0.265043 -0.281650  ...  0.032464  0.381985 -1.879575\n",
      "2  0.110901  0.349692 -0.281650  ...  0.621685  0.221402 -1.879575\n",
      "3 -0.470337  0.674180 -0.281650  ...  0.172017  0.703151 -1.879575\n",
      "4  0.833521  1.280830 -0.162353  ...  0.125499  1.170302 -1.879575\n",
      "\n",
      "[5 rows x 13 columns]\n"
     ]
    }
   ],
   "source": [
    "# Ініціалізація StandardScaler\n",
    "scaler = StandardScaler()\n",
    "\n",
    "# Нормалізація числових даних\n",
    "numeric_data_scaled = pd.DataFrame(scaler.fit_transform(numeric_data_imputed), columns=numeric_data_imputed.columns)\n",
    "\n",
    "# Перевіримо результат\n",
    "print(numeric_data_scaled.head())\n"
   ]
  },
  {
   "cell_type": "code",
   "execution_count": 22,
   "id": "64a091ee-6b05-4cf5-9b00-c95ab0d9ca45",
   "metadata": {},
   "outputs": [
    {
     "name": "stdout",
     "output_type": "stream",
     "text": [
      "Середнє значення після нормалізації:\n",
      " MinTemp         -3.751525e-16\n",
      "MaxTemp         -6.377592e-16\n",
      "Rainfall         8.753558e-17\n",
      "WindGustSpeed   -1.647154e-16\n",
      "WindSpeed9am     3.415451e-16\n",
      "WindSpeed3pm     1.617845e-16\n",
      "Humidity9am     -2.438491e-16\n",
      "Humidity3pm      6.565169e-17\n",
      "Pressure9am     -1.209867e-14\n",
      "Pressure3pm     -2.608560e-14\n",
      "Temp9am          3.126271e-17\n",
      "Temp3pm          3.751525e-17\n",
      "Year             2.080221e-14\n",
      "dtype: float64\n",
      "Стандартне відхилення після нормалізації:\n",
      " MinTemp          1.000003\n",
      "MaxTemp          1.000003\n",
      "Rainfall         1.000003\n",
      "WindGustSpeed    1.000003\n",
      "WindSpeed9am     1.000003\n",
      "WindSpeed3pm     1.000003\n",
      "Humidity9am      1.000003\n",
      "Humidity3pm      1.000003\n",
      "Pressure9am      1.000003\n",
      "Pressure3pm      1.000003\n",
      "Temp9am          1.000003\n",
      "Temp3pm          1.000003\n",
      "Year             1.000003\n",
      "dtype: float64\n"
     ]
    }
   ],
   "source": [
    "print(\"Середнє значення після нормалізації:\\n\", numeric_data_scaled.mean())\n",
    "print(\"Стандартне відхилення після нормалізації:\\n\", numeric_data_scaled.std())\n"
   ]
  },
  {
   "cell_type": "markdown",
   "id": "e042470d-4726-43c2-8f77-511b7d844f7d",
   "metadata": {},
   "source": [
    "### 6. Виконайте кодування категоріальних ознак за допомогою об’єкта OneHotEncoder з пакету sklearn."
   ]
  },
  {
   "cell_type": "code",
   "execution_count": 23,
   "id": "2425e334-e8c8-4b55-a646-d2c905b503c5",
   "metadata": {},
   "outputs": [],
   "source": [
    "from sklearn.preprocessing import OneHotEncoder\n"
   ]
  },
  {
   "cell_type": "code",
   "execution_count": 24,
   "id": "4355cacc-05a1-44ab-94d3-42a2eb6576fa",
   "metadata": {},
   "outputs": [],
   "source": [
    "encoder = OneHotEncoder(sparse_output=False, handle_unknown='ignore')\n"
   ]
  },
  {
   "cell_type": "code",
   "execution_count": 25,
   "id": "c4fcbc3a-5f87-488b-b14f-056e87d6209f",
   "metadata": {},
   "outputs": [],
   "source": [
    "categorical_data_encoded = pd.DataFrame(\n",
    "    encoder.fit_transform(categorical_data_imputed),\n",
    "    columns=encoder.get_feature_names_out(categorical_data_imputed.columns)\n",
    ")\n"
   ]
  },
  {
   "cell_type": "code",
   "execution_count": 26,
   "id": "d1e6817e-aa82-47b2-ba69-8f69ee18b3e6",
   "metadata": {},
   "outputs": [
    {
     "name": "stdout",
     "output_type": "stream",
     "text": [
      "   Date_2007-11-01  Date_2007-11-02  ...  RainTomorrow_No  RainTomorrow_Yes\n",
      "0              0.0              0.0  ...              1.0               0.0\n",
      "1              0.0              0.0  ...              1.0               0.0\n",
      "2              0.0              0.0  ...              1.0               0.0\n",
      "3              0.0              0.0  ...              1.0               0.0\n",
      "4              0.0              0.0  ...              1.0               0.0\n",
      "\n",
      "[5 rows x 3537 columns]\n",
      "Кількість колонок після кодування: 3537\n"
     ]
    }
   ],
   "source": [
    "# Перевірка перших рядків закодованих даних\n",
    "print(categorical_data_encoded.head())\n",
    "\n",
    "# Перевірка кількості колонок після кодування\n",
    "print(f\"Кількість колонок після кодування: {categorical_data_encoded.shape[1]}\")\n"
   ]
  },
  {
   "cell_type": "code",
   "execution_count": 27,
   "id": "d7f69949-5312-4df9-b991-34bc09ef6139",
   "metadata": {},
   "outputs": [],
   "source": [
    "# Виключення колонки Date\n",
    "categorical_data_cleaned = categorical_data_imputed.drop(columns=['Date'])\n"
   ]
  },
  {
   "cell_type": "code",
   "execution_count": 28,
   "id": "586b95fb-6483-41f7-a3e8-e7e3adc9f12b",
   "metadata": {},
   "outputs": [
    {
     "name": "stdout",
     "output_type": "stream",
     "text": [
      "   Location_Adelaide  Location_Albany  ...  RainTomorrow_No  RainTomorrow_Yes\n",
      "0                0.0              0.0  ...              1.0               0.0\n",
      "1                0.0              0.0  ...              1.0               0.0\n",
      "2                0.0              0.0  ...              1.0               0.0\n",
      "3                0.0              0.0  ...              1.0               0.0\n",
      "4                0.0              0.0  ...              1.0               0.0\n",
      "\n",
      "[5 rows x 101 columns]\n",
      "Кількість колонок після кодування: 101\n"
     ]
    }
   ],
   "source": [
    "# Застосування OneHotEncoder\n",
    "categorical_data_encoded = pd.DataFrame(\n",
    "    encoder.fit_transform(categorical_data_cleaned),\n",
    "    columns=encoder.get_feature_names_out(categorical_data_cleaned.columns)\n",
    ")\n",
    "\n",
    "# Перевірка результату\n",
    "print(categorical_data_encoded.head())\n",
    "print(f\"Кількість колонок після кодування: {categorical_data_encoded.shape[1]}\")\n"
   ]
  },
  {
   "cell_type": "code",
   "execution_count": 29,
   "id": "dddd20f6-7204-4adf-ac65-f50af8c073a3",
   "metadata": {},
   "outputs": [
    {
     "name": "stdout",
     "output_type": "stream",
     "text": [
      "   Location_Adelaide  Location_Albany  ...  RainTomorrow_Yes        Date\n",
      "0                0.0              0.0  ...               0.0  2008-12-01\n",
      "1                0.0              0.0  ...               0.0  2008-12-02\n",
      "2                0.0              0.0  ...               0.0  2008-12-03\n",
      "3                0.0              0.0  ...               0.0  2008-12-04\n",
      "4                0.0              0.0  ...               0.0  2008-12-05\n",
      "\n",
      "[5 rows x 102 columns]\n"
     ]
    }
   ],
   "source": [
    "# Додавання колонки Date назад\n",
    "final_data = pd.concat([categorical_data_encoded, categorical_data_imputed['Date']], axis=1)\n",
    "\n",
    "# Перевірка фінального набору даних\n",
    "print(final_data.head())\n"
   ]
  },
  {
   "cell_type": "markdown",
   "id": "cfc1e8a6-2f91-43e4-b98d-625a09bdf570",
   "metadata": {},
   "source": [
    "### 7. Об'єднайте підмножини з числовими і категоріальними ознаками (після кодування) для побудови моделі за допомогою об’єкта LogisticRegression з пакету sklearn."
   ]
  },
  {
   "cell_type": "code",
   "execution_count": 30,
   "id": "04aa036c-f95a-41d6-81bf-f70420a26352",
   "metadata": {},
   "outputs": [
    {
     "name": "stdout",
     "output_type": "stream",
     "text": [
      "    MinTemp   MaxTemp  ...  RainTomorrow_No  RainTomorrow_Yes\n",
      "0  0.189447 -0.045336  ...              1.0               0.0\n",
      "1 -0.753101  0.265043  ...              1.0               0.0\n",
      "2  0.110901  0.349692  ...              1.0               0.0\n",
      "3 -0.470337  0.674180  ...              1.0               0.0\n",
      "4  0.833521  1.280830  ...              1.0               0.0\n",
      "\n",
      "[5 rows x 114 columns]\n",
      "Розмір об'єднаного набору даних: (145460, 114)\n"
     ]
    }
   ],
   "source": [
    "# Об'єднання числових і категоріальних даних\n",
    "final_data = pd.concat([numeric_data_scaled, categorical_data_encoded], axis=1)\n",
    "\n",
    "# Перевіримо об'єднаний набір даних\n",
    "print(final_data.head())\n",
    "print(f\"Розмір об'єднаного набору даних: {final_data.shape}\")\n"
   ]
  },
  {
   "cell_type": "code",
   "execution_count": 31,
   "id": "7f682bd0-bcdc-4547-b010-b6b136fb292c",
   "metadata": {},
   "outputs": [
    {
     "name": "stdout",
     "output_type": "stream",
     "text": [
      "Розмір X: (145460, 112)\n",
      "Розмір y: (145460,)\n"
     ]
    }
   ],
   "source": [
    "# Визначення ознак (X) і цільової змінної (y)\n",
    "X = final_data.drop(columns=['RainTomorrow_Yes', 'RainTomorrow_No'])\n",
    "y = categorical_data_encoded['RainTomorrow_Yes']  # Цільова змінна\n",
    "\n",
    "# Перевіримо розміри X і y\n",
    "print(f\"Розмір X: {X.shape}\")\n",
    "print(f\"Розмір y: {y.shape}\")\n"
   ]
  },
  {
   "cell_type": "code",
   "execution_count": 32,
   "id": "cd49ff88-049d-4a27-927c-e25f4a870305",
   "metadata": {},
   "outputs": [
    {
     "name": "stdout",
     "output_type": "stream",
     "text": [
      "Розмір тренувальної вибірки: (116368, 112)\n",
      "Розмір тестової вибірки: (29092, 112)\n"
     ]
    }
   ],
   "source": [
    "from sklearn.model_selection import train_test_split\n",
    "\n",
    "# Розбиття на тренувальну і тестову вибірки\n",
    "X_train, X_test, y_train, y_test = train_test_split(X, y, test_size=0.2, random_state=42)\n",
    "\n",
    "# Перевіримо розміри вибірок\n",
    "print(f\"Розмір тренувальної вибірки: {X_train.shape}\")\n",
    "print(f\"Розмір тестової вибірки: {X_test.shape}\")\n"
   ]
  },
  {
   "cell_type": "code",
   "execution_count": 33,
   "id": "11a2d4c1-359a-4139-955d-30ff294425cd",
   "metadata": {},
   "outputs": [
    {
     "data": {
      "text/html": [
       "<style>#sk-container-id-1 {\n",
       "  /* Definition of color scheme common for light and dark mode */\n",
       "  --sklearn-color-text: black;\n",
       "  --sklearn-color-line: gray;\n",
       "  /* Definition of color scheme for unfitted estimators */\n",
       "  --sklearn-color-unfitted-level-0: #fff5e6;\n",
       "  --sklearn-color-unfitted-level-1: #f6e4d2;\n",
       "  --sklearn-color-unfitted-level-2: #ffe0b3;\n",
       "  --sklearn-color-unfitted-level-3: chocolate;\n",
       "  /* Definition of color scheme for fitted estimators */\n",
       "  --sklearn-color-fitted-level-0: #f0f8ff;\n",
       "  --sklearn-color-fitted-level-1: #d4ebff;\n",
       "  --sklearn-color-fitted-level-2: #b3dbfd;\n",
       "  --sklearn-color-fitted-level-3: cornflowerblue;\n",
       "\n",
       "  /* Specific color for light theme */\n",
       "  --sklearn-color-text-on-default-background: var(--sg-text-color, var(--theme-code-foreground, var(--jp-content-font-color1, black)));\n",
       "  --sklearn-color-background: var(--sg-background-color, var(--theme-background, var(--jp-layout-color0, white)));\n",
       "  --sklearn-color-border-box: var(--sg-text-color, var(--theme-code-foreground, var(--jp-content-font-color1, black)));\n",
       "  --sklearn-color-icon: #696969;\n",
       "\n",
       "  @media (prefers-color-scheme: dark) {\n",
       "    /* Redefinition of color scheme for dark theme */\n",
       "    --sklearn-color-text-on-default-background: var(--sg-text-color, var(--theme-code-foreground, var(--jp-content-font-color1, white)));\n",
       "    --sklearn-color-background: var(--sg-background-color, var(--theme-background, var(--jp-layout-color0, #111)));\n",
       "    --sklearn-color-border-box: var(--sg-text-color, var(--theme-code-foreground, var(--jp-content-font-color1, white)));\n",
       "    --sklearn-color-icon: #878787;\n",
       "  }\n",
       "}\n",
       "\n",
       "#sk-container-id-1 {\n",
       "  color: var(--sklearn-color-text);\n",
       "}\n",
       "\n",
       "#sk-container-id-1 pre {\n",
       "  padding: 0;\n",
       "}\n",
       "\n",
       "#sk-container-id-1 input.sk-hidden--visually {\n",
       "  border: 0;\n",
       "  clip: rect(1px 1px 1px 1px);\n",
       "  clip: rect(1px, 1px, 1px, 1px);\n",
       "  height: 1px;\n",
       "  margin: -1px;\n",
       "  overflow: hidden;\n",
       "  padding: 0;\n",
       "  position: absolute;\n",
       "  width: 1px;\n",
       "}\n",
       "\n",
       "#sk-container-id-1 div.sk-dashed-wrapped {\n",
       "  border: 1px dashed var(--sklearn-color-line);\n",
       "  margin: 0 0.4em 0.5em 0.4em;\n",
       "  box-sizing: border-box;\n",
       "  padding-bottom: 0.4em;\n",
       "  background-color: var(--sklearn-color-background);\n",
       "}\n",
       "\n",
       "#sk-container-id-1 div.sk-container {\n",
       "  /* jupyter's `normalize.less` sets `[hidden] { display: none; }`\n",
       "     but bootstrap.min.css set `[hidden] { display: none !important; }`\n",
       "     so we also need the `!important` here to be able to override the\n",
       "     default hidden behavior on the sphinx rendered scikit-learn.org.\n",
       "     See: https://github.com/scikit-learn/scikit-learn/issues/21755 */\n",
       "  display: inline-block !important;\n",
       "  position: relative;\n",
       "}\n",
       "\n",
       "#sk-container-id-1 div.sk-text-repr-fallback {\n",
       "  display: none;\n",
       "}\n",
       "\n",
       "div.sk-parallel-item,\n",
       "div.sk-serial,\n",
       "div.sk-item {\n",
       "  /* draw centered vertical line to link estimators */\n",
       "  background-image: linear-gradient(var(--sklearn-color-text-on-default-background), var(--sklearn-color-text-on-default-background));\n",
       "  background-size: 2px 100%;\n",
       "  background-repeat: no-repeat;\n",
       "  background-position: center center;\n",
       "}\n",
       "\n",
       "/* Parallel-specific style estimator block */\n",
       "\n",
       "#sk-container-id-1 div.sk-parallel-item::after {\n",
       "  content: \"\";\n",
       "  width: 100%;\n",
       "  border-bottom: 2px solid var(--sklearn-color-text-on-default-background);\n",
       "  flex-grow: 1;\n",
       "}\n",
       "\n",
       "#sk-container-id-1 div.sk-parallel {\n",
       "  display: flex;\n",
       "  align-items: stretch;\n",
       "  justify-content: center;\n",
       "  background-color: var(--sklearn-color-background);\n",
       "  position: relative;\n",
       "}\n",
       "\n",
       "#sk-container-id-1 div.sk-parallel-item {\n",
       "  display: flex;\n",
       "  flex-direction: column;\n",
       "}\n",
       "\n",
       "#sk-container-id-1 div.sk-parallel-item:first-child::after {\n",
       "  align-self: flex-end;\n",
       "  width: 50%;\n",
       "}\n",
       "\n",
       "#sk-container-id-1 div.sk-parallel-item:last-child::after {\n",
       "  align-self: flex-start;\n",
       "  width: 50%;\n",
       "}\n",
       "\n",
       "#sk-container-id-1 div.sk-parallel-item:only-child::after {\n",
       "  width: 0;\n",
       "}\n",
       "\n",
       "/* Serial-specific style estimator block */\n",
       "\n",
       "#sk-container-id-1 div.sk-serial {\n",
       "  display: flex;\n",
       "  flex-direction: column;\n",
       "  align-items: center;\n",
       "  background-color: var(--sklearn-color-background);\n",
       "  padding-right: 1em;\n",
       "  padding-left: 1em;\n",
       "}\n",
       "\n",
       "\n",
       "/* Toggleable style: style used for estimator/Pipeline/ColumnTransformer box that is\n",
       "clickable and can be expanded/collapsed.\n",
       "- Pipeline and ColumnTransformer use this feature and define the default style\n",
       "- Estimators will overwrite some part of the style using the `sk-estimator` class\n",
       "*/\n",
       "\n",
       "/* Pipeline and ColumnTransformer style (default) */\n",
       "\n",
       "#sk-container-id-1 div.sk-toggleable {\n",
       "  /* Default theme specific background. It is overwritten whether we have a\n",
       "  specific estimator or a Pipeline/ColumnTransformer */\n",
       "  background-color: var(--sklearn-color-background);\n",
       "}\n",
       "\n",
       "/* Toggleable label */\n",
       "#sk-container-id-1 label.sk-toggleable__label {\n",
       "  cursor: pointer;\n",
       "  display: block;\n",
       "  width: 100%;\n",
       "  margin-bottom: 0;\n",
       "  padding: 0.5em;\n",
       "  box-sizing: border-box;\n",
       "  text-align: center;\n",
       "}\n",
       "\n",
       "#sk-container-id-1 label.sk-toggleable__label-arrow:before {\n",
       "  /* Arrow on the left of the label */\n",
       "  content: \"▸\";\n",
       "  float: left;\n",
       "  margin-right: 0.25em;\n",
       "  color: var(--sklearn-color-icon);\n",
       "}\n",
       "\n",
       "#sk-container-id-1 label.sk-toggleable__label-arrow:hover:before {\n",
       "  color: var(--sklearn-color-text);\n",
       "}\n",
       "\n",
       "/* Toggleable content - dropdown */\n",
       "\n",
       "#sk-container-id-1 div.sk-toggleable__content {\n",
       "  max-height: 0;\n",
       "  max-width: 0;\n",
       "  overflow: hidden;\n",
       "  text-align: left;\n",
       "  /* unfitted */\n",
       "  background-color: var(--sklearn-color-unfitted-level-0);\n",
       "}\n",
       "\n",
       "#sk-container-id-1 div.sk-toggleable__content.fitted {\n",
       "  /* fitted */\n",
       "  background-color: var(--sklearn-color-fitted-level-0);\n",
       "}\n",
       "\n",
       "#sk-container-id-1 div.sk-toggleable__content pre {\n",
       "  margin: 0.2em;\n",
       "  border-radius: 0.25em;\n",
       "  color: var(--sklearn-color-text);\n",
       "  /* unfitted */\n",
       "  background-color: var(--sklearn-color-unfitted-level-0);\n",
       "}\n",
       "\n",
       "#sk-container-id-1 div.sk-toggleable__content.fitted pre {\n",
       "  /* unfitted */\n",
       "  background-color: var(--sklearn-color-fitted-level-0);\n",
       "}\n",
       "\n",
       "#sk-container-id-1 input.sk-toggleable__control:checked~div.sk-toggleable__content {\n",
       "  /* Expand drop-down */\n",
       "  max-height: 200px;\n",
       "  max-width: 100%;\n",
       "  overflow: auto;\n",
       "}\n",
       "\n",
       "#sk-container-id-1 input.sk-toggleable__control:checked~label.sk-toggleable__label-arrow:before {\n",
       "  content: \"▾\";\n",
       "}\n",
       "\n",
       "/* Pipeline/ColumnTransformer-specific style */\n",
       "\n",
       "#sk-container-id-1 div.sk-label input.sk-toggleable__control:checked~label.sk-toggleable__label {\n",
       "  color: var(--sklearn-color-text);\n",
       "  background-color: var(--sklearn-color-unfitted-level-2);\n",
       "}\n",
       "\n",
       "#sk-container-id-1 div.sk-label.fitted input.sk-toggleable__control:checked~label.sk-toggleable__label {\n",
       "  background-color: var(--sklearn-color-fitted-level-2);\n",
       "}\n",
       "\n",
       "/* Estimator-specific style */\n",
       "\n",
       "/* Colorize estimator box */\n",
       "#sk-container-id-1 div.sk-estimator input.sk-toggleable__control:checked~label.sk-toggleable__label {\n",
       "  /* unfitted */\n",
       "  background-color: var(--sklearn-color-unfitted-level-2);\n",
       "}\n",
       "\n",
       "#sk-container-id-1 div.sk-estimator.fitted input.sk-toggleable__control:checked~label.sk-toggleable__label {\n",
       "  /* fitted */\n",
       "  background-color: var(--sklearn-color-fitted-level-2);\n",
       "}\n",
       "\n",
       "#sk-container-id-1 div.sk-label label.sk-toggleable__label,\n",
       "#sk-container-id-1 div.sk-label label {\n",
       "  /* The background is the default theme color */\n",
       "  color: var(--sklearn-color-text-on-default-background);\n",
       "}\n",
       "\n",
       "/* On hover, darken the color of the background */\n",
       "#sk-container-id-1 div.sk-label:hover label.sk-toggleable__label {\n",
       "  color: var(--sklearn-color-text);\n",
       "  background-color: var(--sklearn-color-unfitted-level-2);\n",
       "}\n",
       "\n",
       "/* Label box, darken color on hover, fitted */\n",
       "#sk-container-id-1 div.sk-label.fitted:hover label.sk-toggleable__label.fitted {\n",
       "  color: var(--sklearn-color-text);\n",
       "  background-color: var(--sklearn-color-fitted-level-2);\n",
       "}\n",
       "\n",
       "/* Estimator label */\n",
       "\n",
       "#sk-container-id-1 div.sk-label label {\n",
       "  font-family: monospace;\n",
       "  font-weight: bold;\n",
       "  display: inline-block;\n",
       "  line-height: 1.2em;\n",
       "}\n",
       "\n",
       "#sk-container-id-1 div.sk-label-container {\n",
       "  text-align: center;\n",
       "}\n",
       "\n",
       "/* Estimator-specific */\n",
       "#sk-container-id-1 div.sk-estimator {\n",
       "  font-family: monospace;\n",
       "  border: 1px dotted var(--sklearn-color-border-box);\n",
       "  border-radius: 0.25em;\n",
       "  box-sizing: border-box;\n",
       "  margin-bottom: 0.5em;\n",
       "  /* unfitted */\n",
       "  background-color: var(--sklearn-color-unfitted-level-0);\n",
       "}\n",
       "\n",
       "#sk-container-id-1 div.sk-estimator.fitted {\n",
       "  /* fitted */\n",
       "  background-color: var(--sklearn-color-fitted-level-0);\n",
       "}\n",
       "\n",
       "/* on hover */\n",
       "#sk-container-id-1 div.sk-estimator:hover {\n",
       "  /* unfitted */\n",
       "  background-color: var(--sklearn-color-unfitted-level-2);\n",
       "}\n",
       "\n",
       "#sk-container-id-1 div.sk-estimator.fitted:hover {\n",
       "  /* fitted */\n",
       "  background-color: var(--sklearn-color-fitted-level-2);\n",
       "}\n",
       "\n",
       "/* Specification for estimator info (e.g. \"i\" and \"?\") */\n",
       "\n",
       "/* Common style for \"i\" and \"?\" */\n",
       "\n",
       ".sk-estimator-doc-link,\n",
       "a:link.sk-estimator-doc-link,\n",
       "a:visited.sk-estimator-doc-link {\n",
       "  float: right;\n",
       "  font-size: smaller;\n",
       "  line-height: 1em;\n",
       "  font-family: monospace;\n",
       "  background-color: var(--sklearn-color-background);\n",
       "  border-radius: 1em;\n",
       "  height: 1em;\n",
       "  width: 1em;\n",
       "  text-decoration: none !important;\n",
       "  margin-left: 1ex;\n",
       "  /* unfitted */\n",
       "  border: var(--sklearn-color-unfitted-level-1) 1pt solid;\n",
       "  color: var(--sklearn-color-unfitted-level-1);\n",
       "}\n",
       "\n",
       ".sk-estimator-doc-link.fitted,\n",
       "a:link.sk-estimator-doc-link.fitted,\n",
       "a:visited.sk-estimator-doc-link.fitted {\n",
       "  /* fitted */\n",
       "  border: var(--sklearn-color-fitted-level-1) 1pt solid;\n",
       "  color: var(--sklearn-color-fitted-level-1);\n",
       "}\n",
       "\n",
       "/* On hover */\n",
       "div.sk-estimator:hover .sk-estimator-doc-link:hover,\n",
       ".sk-estimator-doc-link:hover,\n",
       "div.sk-label-container:hover .sk-estimator-doc-link:hover,\n",
       ".sk-estimator-doc-link:hover {\n",
       "  /* unfitted */\n",
       "  background-color: var(--sklearn-color-unfitted-level-3);\n",
       "  color: var(--sklearn-color-background);\n",
       "  text-decoration: none;\n",
       "}\n",
       "\n",
       "div.sk-estimator.fitted:hover .sk-estimator-doc-link.fitted:hover,\n",
       ".sk-estimator-doc-link.fitted:hover,\n",
       "div.sk-label-container:hover .sk-estimator-doc-link.fitted:hover,\n",
       ".sk-estimator-doc-link.fitted:hover {\n",
       "  /* fitted */\n",
       "  background-color: var(--sklearn-color-fitted-level-3);\n",
       "  color: var(--sklearn-color-background);\n",
       "  text-decoration: none;\n",
       "}\n",
       "\n",
       "/* Span, style for the box shown on hovering the info icon */\n",
       ".sk-estimator-doc-link span {\n",
       "  display: none;\n",
       "  z-index: 9999;\n",
       "  position: relative;\n",
       "  font-weight: normal;\n",
       "  right: .2ex;\n",
       "  padding: .5ex;\n",
       "  margin: .5ex;\n",
       "  width: min-content;\n",
       "  min-width: 20ex;\n",
       "  max-width: 50ex;\n",
       "  color: var(--sklearn-color-text);\n",
       "  box-shadow: 2pt 2pt 4pt #999;\n",
       "  /* unfitted */\n",
       "  background: var(--sklearn-color-unfitted-level-0);\n",
       "  border: .5pt solid var(--sklearn-color-unfitted-level-3);\n",
       "}\n",
       "\n",
       ".sk-estimator-doc-link.fitted span {\n",
       "  /* fitted */\n",
       "  background: var(--sklearn-color-fitted-level-0);\n",
       "  border: var(--sklearn-color-fitted-level-3);\n",
       "}\n",
       "\n",
       ".sk-estimator-doc-link:hover span {\n",
       "  display: block;\n",
       "}\n",
       "\n",
       "/* \"?\"-specific style due to the `<a>` HTML tag */\n",
       "\n",
       "#sk-container-id-1 a.estimator_doc_link {\n",
       "  float: right;\n",
       "  font-size: 1rem;\n",
       "  line-height: 1em;\n",
       "  font-family: monospace;\n",
       "  background-color: var(--sklearn-color-background);\n",
       "  border-radius: 1rem;\n",
       "  height: 1rem;\n",
       "  width: 1rem;\n",
       "  text-decoration: none;\n",
       "  /* unfitted */\n",
       "  color: var(--sklearn-color-unfitted-level-1);\n",
       "  border: var(--sklearn-color-unfitted-level-1) 1pt solid;\n",
       "}\n",
       "\n",
       "#sk-container-id-1 a.estimator_doc_link.fitted {\n",
       "  /* fitted */\n",
       "  border: var(--sklearn-color-fitted-level-1) 1pt solid;\n",
       "  color: var(--sklearn-color-fitted-level-1);\n",
       "}\n",
       "\n",
       "/* On hover */\n",
       "#sk-container-id-1 a.estimator_doc_link:hover {\n",
       "  /* unfitted */\n",
       "  background-color: var(--sklearn-color-unfitted-level-3);\n",
       "  color: var(--sklearn-color-background);\n",
       "  text-decoration: none;\n",
       "}\n",
       "\n",
       "#sk-container-id-1 a.estimator_doc_link.fitted:hover {\n",
       "  /* fitted */\n",
       "  background-color: var(--sklearn-color-fitted-level-3);\n",
       "}\n",
       "</style><div id=\"sk-container-id-1\" class=\"sk-top-container\"><div class=\"sk-text-repr-fallback\"><pre>LogisticRegression(max_iter=1000, solver=&#x27;liblinear&#x27;)</pre><b>In a Jupyter environment, please rerun this cell to show the HTML representation or trust the notebook. <br />On GitHub, the HTML representation is unable to render, please try loading this page with nbviewer.org.</b></div><div class=\"sk-container\" hidden><div class=\"sk-item\"><div class=\"sk-estimator fitted sk-toggleable\"><input class=\"sk-toggleable__control sk-hidden--visually\" id=\"sk-estimator-id-1\" type=\"checkbox\" checked><label for=\"sk-estimator-id-1\" class=\"sk-toggleable__label fitted sk-toggleable__label-arrow fitted\">&nbsp;&nbsp;LogisticRegression<a class=\"sk-estimator-doc-link fitted\" rel=\"noreferrer\" target=\"_blank\" href=\"https://scikit-learn.org/1.5/modules/generated/sklearn.linear_model.LogisticRegression.html\">?<span>Documentation for LogisticRegression</span></a><span class=\"sk-estimator-doc-link fitted\">i<span>Fitted</span></span></label><div class=\"sk-toggleable__content fitted\"><pre>LogisticRegression(max_iter=1000, solver=&#x27;liblinear&#x27;)</pre></div> </div></div></div></div>"
      ],
      "text/plain": [
       "LogisticRegression(max_iter=1000, solver='liblinear')"
      ]
     },
     "execution_count": 33,
     "metadata": {},
     "output_type": "execute_result"
    }
   ],
   "source": [
    "from sklearn.linear_model import LogisticRegression\n",
    "\n",
    "# Ініціалізація моделі\n",
    "model = LogisticRegression(solver='liblinear', max_iter=1000)\n",
    "\n",
    "# Навчання моделі\n",
    "model.fit(X_train, y_train)\n"
   ]
  },
  {
   "cell_type": "code",
   "execution_count": 34,
   "id": "0b296321-4c8a-4761-8635-0e23f4505df3",
   "metadata": {},
   "outputs": [
    {
     "name": "stdout",
     "output_type": "stream",
     "text": [
      "Матриця плутанини:\n",
      " [[21544  1128]\n",
      " [ 3386  3034]]\n",
      "Classification Report:\n",
      "               precision    recall  f1-score   support\n",
      "\n",
      "         0.0       0.86      0.95      0.91     22672\n",
      "         1.0       0.73      0.47      0.57      6420\n",
      "\n",
      "    accuracy                           0.84     29092\n",
      "   macro avg       0.80      0.71      0.74     29092\n",
      "weighted avg       0.83      0.84      0.83     29092\n",
      "\n",
      "Точність: 0.8448370686099271\n"
     ]
    }
   ],
   "source": [
    "from sklearn.metrics import classification_report, confusion_matrix, accuracy_score\n",
    "\n",
    "# Передбачення\n",
    "y_pred = model.predict(X_test)\n",
    "\n",
    "# Метрики\n",
    "print(\"Матриця плутанини:\\n\", confusion_matrix(y_test, y_pred))\n",
    "print(\"Classification Report:\\n\", classification_report(y_test, y_pred))\n",
    "print(\"Точність:\", accuracy_score(y_test, y_pred))\n"
   ]
  },
  {
   "cell_type": "code",
   "execution_count": 35,
   "id": "3a64b645-f99f-4d0e-8247-a6bf4e330111",
   "metadata": {},
   "outputs": [
    {
     "name": "stdout",
     "output_type": "stream",
     "text": [
      "\n",
      "Модель з solver='lbfgs':\n",
      "Точність: 0.8447683211879554\n",
      "Час виконання: 0.9252820014953613 секунд\n",
      "\n",
      "Модель з solver='saga':\n"
     ]
    },
    {
     "name": "stderr",
     "output_type": "stream",
     "text": [
      "C:\\ProgramData\\anaconda3\\envs\\mlf\\Lib\\site-packages\\sklearn\\linear_model\\_sag.py:349: ConvergenceWarning: The max_iter was reached which means the coef_ did not converge\n",
      "  warnings.warn(\n"
     ]
    },
    {
     "name": "stdout",
     "output_type": "stream",
     "text": [
      "Точність: 0.8448370686099271\n",
      "Час виконання: 148.24224495887756 секунд\n",
      "\n",
      "Модель з solver='newton-cg':\n",
      "Точність: 0.8448714423209129\n",
      "Час виконання: 1.3993537425994873 секунд\n"
     ]
    }
   ],
   "source": [
    "import time\n",
    "\n",
    "solvers = ['lbfgs', 'saga', 'newton-cg']\n",
    "\n",
    "for solver in solvers:\n",
    "    print(f\"\\nМодель з solver='{solver}':\")\n",
    "    try:\n",
    "        start_time = time.time()\n",
    "        \n",
    "        # Ініціалізація моделі\n",
    "        model = LogisticRegression(solver=solver, max_iter=1000)\n",
    "        \n",
    "        # Навчання моделі\n",
    "        model.fit(X_train, y_train)\n",
    "        \n",
    "        # Передбачення\n",
    "        y_pred = model.predict(X_test)\n",
    "        \n",
    "        # Виведення точності\n",
    "        print(\"Точність:\", accuracy_score(y_test, y_pred))\n",
    "        print(\"Час виконання:\", time.time() - start_time, \"секунд\")\n",
    "    except Exception as e:\n",
    "        print(f\"Помилка при використанні solver='{solver}': {e}\")\n"
   ]
  },
  {
   "cell_type": "markdown",
   "id": "116c4c73-3803-42fb-87a7-5423be6ee7de",
   "metadata": {},
   "source": [
    "### Порівняння метрик:\n",
    "1. Точність (Accuracy):\n",
    "\n",
    "    - У новій моделі точність складає 84.4%, що є покращенням порівняно з базовою моделлю, яка мала 80%.\n",
    "    - Це свідчить про кращу здатність моделі правильно класифікувати дані.\n",
    "2. F1-score:\n",
    "\n",
    " - Для класу \"No\" (основний клас): 0.91, що значно вище за базову модель.\n",
    " - Для класу \"Yes\" (менш поширений клас): 0.57, що трохи нижче очікуваного. Однак це є типовим для задачі з дисбалансом класів.\n",
    "\n",
    "3. Recall та Precision:\n",
    "\n",
    "    - Precision: значно покращився для основного класу, що означає, що менше хибнопозитивних результатів.\n",
    "    - Recall: для менш поширеного класу \"Yes\" залишився майже таким самим, як у базовій моделі.\n",
    "\n",
    "### Загальний висновок:\n",
    "Нова модель із solver 'lbfgs' показала кращі результати, особливо для основного класу \"No\". Це досягнуто завдяки оптимізації гіперпараметрів. Проте, для класу \"Yes\" показники Recall потребують покращення, що може бути досягнуто через:\n",
    "\n",
    "    - Балансування вибірки (oversampling/undersampling).\n",
    "    - Використання ваг класів (class_weight='balanced').\n",
    "    - Застосування методів обробки дисбалансу класів."
   ]
  },
  {
   "cell_type": "markdown",
   "id": "b15b4a5e-4833-4fe7-b941-ccbc85746e3e",
   "metadata": {},
   "source": [
    "### 8. Розрахуйте метрики нової моделі за допомогою методу classification_report() з пакета sklearn"
   ]
  },
  {
   "cell_type": "code",
   "execution_count": null,
   "id": "da4c7077-f6d1-44d3-858b-498bf67febb4",
   "metadata": {},
   "outputs": [],
   "source": []
  },
  {
   "cell_type": "code",
   "execution_count": null,
   "id": "3100846b-74d7-42dc-a490-42334f8fe7e4",
   "metadata": {},
   "outputs": [],
   "source": []
  }
 ],
 "metadata": {
  "kernelspec": {
   "display_name": "Python 3 (Spyder)",
   "language": "python3",
   "name": "python3"
  },
  "language_info": {
   "codemirror_mode": {
    "name": "ipython",
    "version": 3
   },
   "file_extension": ".py",
   "mimetype": "text/x-python",
   "name": "python",
   "nbconvert_exporter": "python",
   "pygments_lexer": "ipython3",
   "version": "3.11.10"
  }
 },
 "nbformat": 4,
 "nbformat_minor": 5
}
