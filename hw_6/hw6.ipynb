{
 "cells": [
  {
   "cell_type": "markdown",
   "id": "fe88256f-2113-4085-9d2b-8d41da7d75fc",
   "metadata": {},
   "source": [
    "## Домашнє завдання до модуля «Алгоритми навчання з вчителем Ч.2»"
   ]
  },
  {
   "cell_type": "markdown",
   "id": "3da23e0c-974b-4517-a7af-2485924214fd",
   "metadata": {},
   "source": [
    "### 1. Здійсніть імпорт необхідних пакетів."
   ]
  },
  {
   "cell_type": "code",
   "execution_count": 1,
   "id": "d7060ba5-ba9b-4568-9e30-bb86d1e72bf0",
   "metadata": {},
   "outputs": [],
   "source": [
    "import pandas as pd\n",
    "import numpy as np\n",
    "from sklearn.model_selection import train_test_split\n",
    "from sklearn.preprocessing import OneHotEncoder\n",
    "from sklearn.linear_model import LogisticRegression\n",
    "from sklearn.metrics import accuracy_score, classification_report\n"
   ]
  },
  {
   "cell_type": "markdown",
   "id": "8eee355c-09b2-46cd-bb52-761f44248f87",
   "metadata": {},
   "source": [
    " ### 2. Завантажте набір даних Rain in Australia"
   ]
  },
  {
   "cell_type": "code",
   "execution_count": 2,
   "id": "eb5a2c80-9131-4287-8b82-40ddb9b7a6bb",
   "metadata": {},
   "outputs": [
    {
     "name": "stdout",
     "output_type": "stream",
     "text": [
      "         Date Location  MinTemp  ...  Temp3pm  RainToday  RainTomorrow\n",
      "0  2008-12-01   Albury     13.4  ...     21.8         No            No\n",
      "1  2008-12-02   Albury      7.4  ...     24.3         No            No\n",
      "2  2008-12-03   Albury     12.9  ...     23.2         No            No\n",
      "3  2008-12-04   Albury      9.2  ...     26.5         No            No\n",
      "4  2008-12-05   Albury     17.5  ...     29.7         No            No\n",
      "\n",
      "[5 rows x 23 columns]\n"
     ]
    }
   ],
   "source": [
    "\n",
    "\n",
    "data = pd.read_csv('weather_data.csv')\n",
    "print(data.head())\n"
   ]
  },
  {
   "cell_type": "code",
   "execution_count": 3,
   "id": "e532c8eb-e6a0-4875-b29c-9d51a3f7d5e9",
   "metadata": {},
   "outputs": [
    {
     "name": "stdout",
     "output_type": "stream",
     "text": [
      "Date                 0\n",
      "Location             0\n",
      "MinTemp           1485\n",
      "MaxTemp           1261\n",
      "Rainfall          3261\n",
      "Evaporation      62790\n",
      "Sunshine         69835\n",
      "WindGustDir      10326\n",
      "WindGustSpeed    10263\n",
      "WindDir9am       10566\n",
      "WindDir3pm        4228\n",
      "WindSpeed9am      1767\n",
      "WindSpeed3pm      3062\n",
      "Humidity9am       2654\n",
      "Humidity3pm       4507\n",
      "Pressure9am      15065\n",
      "Pressure3pm      15028\n",
      "Cloud9am         55888\n",
      "Cloud3pm         59358\n",
      "Temp9am           1767\n",
      "Temp3pm           3609\n",
      "RainToday         3261\n",
      "RainTomorrow      3267\n",
      "dtype: int64\n"
     ]
    }
   ],
   "source": [
    "# Підрахунок пропущених значень\n",
    "missing_values = data.isnull().sum()\n",
    "\n",
    "# Відображення кількості пропущених значень у кожному стовпці\n",
    "print(missing_values)"
   ]
  },
  {
   "cell_type": "markdown",
   "id": "47883a76-ab01-40a0-94cd-f8e50ea23958",
   "metadata": {},
   "source": [
    "### 3: Видалення ознак з великою кількістю пропущених значень"
   ]
  },
  {
   "cell_type": "code",
   "execution_count": 4,
   "id": "93a986e6-7dcb-4db9-a82f-75da72745710",
   "metadata": {},
   "outputs": [
    {
     "name": "stdout",
     "output_type": "stream",
     "text": [
      "Після видалення колонок з великою кількістю пропусків:\n",
      "<class 'pandas.core.frame.DataFrame'>\n",
      "RangeIndex: 145460 entries, 0 to 145459\n",
      "Data columns (total 19 columns):\n",
      " #   Column         Non-Null Count   Dtype  \n",
      "---  ------         --------------   -----  \n",
      " 0   Date           145460 non-null  object \n",
      " 1   Location       145460 non-null  object \n",
      " 2   MinTemp        143975 non-null  float64\n",
      " 3   MaxTemp        144199 non-null  float64\n",
      " 4   Rainfall       142199 non-null  float64\n",
      " 5   WindGustDir    135134 non-null  object \n",
      " 6   WindGustSpeed  135197 non-null  float64\n",
      " 7   WindDir9am     134894 non-null  object \n",
      " 8   WindDir3pm     141232 non-null  object \n",
      " 9   WindSpeed9am   143693 non-null  float64\n",
      " 10  WindSpeed3pm   142398 non-null  float64\n",
      " 11  Humidity9am    142806 non-null  float64\n",
      " 12  Humidity3pm    140953 non-null  float64\n",
      " 13  Pressure9am    130395 non-null  float64\n",
      " 14  Pressure3pm    130432 non-null  float64\n",
      " 15  Temp9am        143693 non-null  float64\n",
      " 16  Temp3pm        141851 non-null  float64\n",
      " 17  RainToday      142199 non-null  object \n",
      " 18  RainTomorrow   142193 non-null  object \n",
      "dtypes: float64(12), object(7)\n",
      "memory usage: 21.1+ MB\n",
      "None\n"
     ]
    }
   ],
   "source": [
    "# Визначення порогу для видалення колонок\n",
    "missing_threshold = 0.3  # Наприклад, видаляємо ознаки з >30% пропусків\n",
    "missing_fraction = data.isnull().mean()\n",
    "\n",
    "# Видалення колонок\n",
    "data = data.loc[:, missing_fraction <= missing_threshold]\n",
    "print(\"Після видалення колонок з великою кількістю пропусків:\")\n",
    "print(data.info())\n"
   ]
  },
  {
   "cell_type": "markdown",
   "id": "45908ebe-7de2-4b33-af15-b280b4ebf25b",
   "metadata": {},
   "source": [
    "### 3.2. Створіть підмножини набору даних із числовими та категоріальними ознаками."
   ]
  },
  {
   "cell_type": "code",
   "execution_count": 5,
   "id": "b4a8ef40-35a0-48f5-8a32-b7428b4b9587",
   "metadata": {},
   "outputs": [
    {
     "name": "stdout",
     "output_type": "stream",
     "text": [
      "Типи даних у наборі:\n",
      "Date              object\n",
      "Location          object\n",
      "MinTemp          float64\n",
      "MaxTemp          float64\n",
      "Rainfall         float64\n",
      "WindGustDir       object\n",
      "WindGustSpeed    float64\n",
      "WindDir9am        object\n",
      "WindDir3pm        object\n",
      "WindSpeed9am     float64\n",
      "WindSpeed3pm     float64\n",
      "Humidity9am      float64\n",
      "Humidity3pm      float64\n",
      "Pressure9am      float64\n",
      "Pressure3pm      float64\n",
      "Temp9am          float64\n",
      "Temp3pm          float64\n",
      "RainToday         object\n",
      "RainTomorrow      object\n",
      "dtype: object\n"
     ]
    }
   ],
   "source": [
    "# Перевірка типів даних\n",
    "print(\"Типи даних у наборі:\")\n",
    "print(data.dtypes)\n"
   ]
  },
  {
   "cell_type": "code",
   "execution_count": 6,
   "id": "f8e1ab52-285d-4bab-b697-595117ee96c5",
   "metadata": {},
   "outputs": [
    {
     "name": "stdout",
     "output_type": "stream",
     "text": [
      "Числові ознаки:\n",
      "Index(['MinTemp', 'MaxTemp', 'Rainfall', 'WindGustSpeed', 'WindSpeed9am',\n",
      "       'WindSpeed3pm', 'Humidity9am', 'Humidity3pm', 'Pressure9am',\n",
      "       'Pressure3pm', 'Temp9am', 'Temp3pm'],\n",
      "      dtype='object')\n",
      "\n",
      "Категоріальні ознаки:\n",
      "Index(['Date', 'Location', 'WindGustDir', 'WindDir9am', 'WindDir3pm',\n",
      "       'RainToday', 'RainTomorrow'],\n",
      "      dtype='object')\n"
     ]
    }
   ],
   "source": [
    "# Поділ ознак на числові та категоріальні\n",
    "numerical_features = data.select_dtypes(include=['int64', 'float64']).columns\n",
    "categorical_features = data.select_dtypes(include=['object']).columns\n",
    "\n",
    "# Підмножини для числових та категоріальних ознак\n",
    "numerical_data = data[numerical_features]\n",
    "categorical_data = data[categorical_features]\n",
    "\n",
    "# Перевірка\n",
    "print(\"Числові ознаки:\")\n",
    "print(numerical_features)\n",
    "print(\"\\nКатегоріальні ознаки:\")\n",
    "print(categorical_features)\n",
    "\n"
   ]
  },
  {
   "cell_type": "markdown",
   "id": "3b464aee-837b-4e48-a74a-cfa371a21083",
   "metadata": {},
   "source": [
    "### 3.3. Змініть тип колонки Date на тип datetimeі створіть додаткові колонки Year та Month."
   ]
  },
  {
   "cell_type": "code",
   "execution_count": 7,
   "id": "c38b4acf-37f0-4250-940d-96e20789fdbf",
   "metadata": {},
   "outputs": [
    {
     "name": "stdout",
     "output_type": "stream",
     "text": [
      "Пропуски в колонці 'Date' після перетворення: 0\n"
     ]
    }
   ],
   "source": [
    "# Перетворення колонки Date на тип datetime\n",
    "data['Date'] = pd.to_datetime(data['Date'], errors='coerce')\n",
    "\n",
    "# Перевірка наявності пропусків після конвертації\n",
    "print(f\"Пропуски в колонці 'Date' після перетворення: {data['Date'].isnull().sum()}\")"
   ]
  },
  {
   "cell_type": "code",
   "execution_count": 8,
   "id": "b4c950c5-05da-46ba-bf66-ed68cd3e99af",
   "metadata": {},
   "outputs": [
    {
     "name": "stdout",
     "output_type": "stream",
     "text": [
      "Перші кілька рядків після створення колонок Year та Month:\n",
      "        Date  Year  Month\n",
      "0 2008-12-01  2008     12\n",
      "1 2008-12-02  2008     12\n",
      "2 2008-12-03  2008     12\n",
      "3 2008-12-04  2008     12\n",
      "4 2008-12-05  2008     12\n"
     ]
    }
   ],
   "source": [
    "# Створення колонок Year та Month\n",
    "data['Year'] = data['Date'].dt.year\n",
    "data['Month'] = data['Date'].dt.month\n",
    "\n",
    "# Перевірка результату\n",
    "print(\"Перші кілька рядків після створення колонок Year та Month:\")\n",
    "print(data[['Date', 'Year', 'Month']].head())"
   ]
  },
  {
   "cell_type": "code",
   "execution_count": 9,
   "id": "a7e53c28-dad7-46e4-a627-f6f37f6e8742",
   "metadata": {},
   "outputs": [
    {
     "name": "stdout",
     "output_type": "stream",
     "text": [
      "Унікальні значення в колонці 'Year': [2008 2009 2010 2011 2012 2013 2014 2015 2016 2017 2007]\n",
      "Унікальні значення в колонці 'Month': [12  1  2  3  4  5  6  7  8  9 10 11]\n"
     ]
    }
   ],
   "source": [
    "# Унікальні значення в колонках Year і Month\n",
    "print(\"Унікальні значення в колонці 'Year':\", data['Year'].unique())\n",
    "print(\"Унікальні значення в колонці 'Month':\", data['Month'].unique())\n"
   ]
  },
  {
   "cell_type": "markdown",
   "id": "0c48b031-7caa-4684-a42d-3f019f9f7a0d",
   "metadata": {},
   "source": [
    "###  3.4. Переміcтить створену нову колонку Year з підмножини набору із категоріальними ознаками до підмножини із числовими ознаками."
   ]
  },
  {
   "cell_type": "code",
   "execution_count": 10,
   "id": "409df33c-d564-4000-be03-9f72c71de6d0",
   "metadata": {},
   "outputs": [
    {
     "name": "stdout",
     "output_type": "stream",
     "text": [
      "Оновлений список числових ознак:\n",
      "Index(['MinTemp', 'MaxTemp', 'Rainfall', 'WindGustSpeed', 'WindSpeed9am',\n",
      "       'WindSpeed3pm', 'Humidity9am', 'Humidity3pm', 'Pressure9am',\n",
      "       'Pressure3pm', 'Temp9am', 'Temp3pm', 'Year'],\n",
      "      dtype='object')\n",
      "\n",
      "Оновлений список категоріальних ознак:\n",
      "Index(['Date', 'Location', 'RainToday', 'RainTomorrow', 'WindDir3pm',\n",
      "       'WindDir9am', 'WindGustDir', 'Month'],\n",
      "      dtype='object')\n"
     ]
    }
   ],
   "source": [
    "# Додавання колонки 'Year' до числових ознак\n",
    "numerical_features = numerical_features.append(pd.Index(['Year']))\n",
    "numerical_data = data[numerical_features]\n",
    "\n",
    "# Видалення колонки 'Year' із категоріальних ознак, якщо вона там є\n",
    "categorical_features = categorical_features.difference(['Year'])\n",
    "categorical_data = data[categorical_features]\n",
    "\n",
    "# Додавання 'Month' до категоріальних ознак, якщо вона там ще не присутня\n",
    "if 'Month' not in categorical_features:\n",
    "    categorical_features = categorical_features.append(pd.Index(['Month']))\n",
    "    categorical_data = data[categorical_features]\n",
    "\n",
    "# Перевірка\n",
    "print(\"Оновлений список числових ознак:\")\n",
    "print(numerical_features)\n",
    "\n",
    "print(\"\\nОновлений список категоріальних ознак:\")\n",
    "print(categorical_features)\n",
    "\n"
   ]
  },
  {
   "cell_type": "code",
   "execution_count": 11,
   "id": "712ed7e3-ec46-4118-a22b-8af9656f69d5",
   "metadata": {},
   "outputs": [
    {
     "name": "stdout",
     "output_type": "stream",
     "text": [
      "Тип колонки 'Year': int32\n",
      "Тип колонки 'Month': category\n"
     ]
    }
   ],
   "source": [
    "# Перевірка типу Year\n",
    "print(f\"Тип колонки 'Year': {data['Year'].dtype}\")\n",
    "\n",
    "# Переведення Month у категоріальний тип, якщо це ще не зроблено\n",
    "data['Month'] = data['Month'].astype('category')\n",
    "print(f\"Тип колонки 'Month': {data['Month'].dtype}\")\n"
   ]
  },
  {
   "cell_type": "code",
   "execution_count": 12,
   "id": "cfc046f0-5cec-48a8-827a-19163f121f53",
   "metadata": {},
   "outputs": [
    {
     "name": "stdout",
     "output_type": "stream",
     "text": [
      "Кількість числових ознак: 13\n",
      "Кількість категоріальних ознак: 8\n"
     ]
    }
   ],
   "source": [
    "# Відображення кількості колонок у підмножинах\n",
    "print(f\"Кількість числових ознак: {numerical_data.shape[1]}\")\n",
    "print(f\"Кількість категоріальних ознак: {categorical_data.shape[1]}\")\n"
   ]
  },
  {
   "cell_type": "markdown",
   "id": "5075a2a7-2323-4fc5-9375-ad86a2d7b3f5",
   "metadata": {},
   "source": [
    "### 3.5. Розбийте підмножини на тренувальну і тестову вибірки за такою логікою: до тестової вибірки віднесіть всі об'єкти із набору даних із останнім (максимальним) роком спостережень, а для навчання моделі залиште всі інші об'єкти."
   ]
  },
  {
   "cell_type": "code",
   "execution_count": 13,
   "id": "dcf9981e-a9b9-4b03-af7f-dc3a70d66fb9",
   "metadata": {},
   "outputs": [
    {
     "name": "stdout",
     "output_type": "stream",
     "text": [
      "Максимальний рік у даних: 2017\n"
     ]
    }
   ],
   "source": [
    "# Визначення максимального року\n",
    "max_year = data['Year'].max()\n",
    "print(f\"Максимальний рік у даних: {max_year}\")\n",
    "\n"
   ]
  },
  {
   "cell_type": "code",
   "execution_count": 14,
   "id": "fd80f98f-8ef2-4a4d-9bc1-ca5702f9ec7f",
   "metadata": {},
   "outputs": [
    {
     "name": "stdout",
     "output_type": "stream",
     "text": [
      "Розмір тренувальної вибірки: (136837, 21)\n",
      "Розмір тестової вибірки: (8623, 21)\n"
     ]
    }
   ],
   "source": [
    "# Булева індексація для розбиття\n",
    "test_data = data[data['Year'] == max_year]\n",
    "train_data = data[data['Year'] < max_year]\n",
    "\n",
    "# Перевірка розмірів вибірок\n",
    "print(f\"Розмір тренувальної вибірки: {train_data.shape}\")\n",
    "print(f\"Розмір тестової вибірки: {test_data.shape}\")\n"
   ]
  },
  {
   "cell_type": "code",
   "execution_count": 15,
   "id": "b80bd2d3-c453-4ff4-ab7b-b299719f6b3d",
   "metadata": {},
   "outputs": [
    {
     "name": "stdout",
     "output_type": "stream",
     "text": [
      "Унікальні роки в тестовій вибірці: [2017]\n"
     ]
    }
   ],
   "source": [
    "# Перевірка, що в тестовій вибірці лише дані з останнього року\n",
    "print(f\"Унікальні роки в тестовій вибірці: {test_data['Year'].unique()}\")\n"
   ]
  },
  {
   "cell_type": "code",
   "execution_count": 16,
   "id": "a23baa7a-8be2-4bd7-9e62-06b9d3b868ee",
   "metadata": {},
   "outputs": [],
   "source": [
    "numerical_features = train_data.select_dtypes(include=['int64', 'float64']).columns\n",
    "categorical_features = train_data.select_dtypes(include=['object', 'category']).columns\n"
   ]
  },
  {
   "cell_type": "code",
   "execution_count": 17,
   "id": "1b5f0d66-50c9-4c14-a925-f22186ca028a",
   "metadata": {
    "scrolled": true
   },
   "outputs": [
    {
     "name": "stdout",
     "output_type": "stream",
     "text": [
      "Унікальні роки у тренувальній вибірці: [2008 2009 2010 2011 2012 2013 2014 2015 2016 2007]\n",
      "Унікальні роки у тестовій вибірці: [2017]\n"
     ]
    }
   ],
   "source": [
    "# Перевірка унікальних років у кожній вибірці\n",
    "print(f\"Унікальні роки у тренувальній вибірці: {train_data['Year'].unique()}\")\n",
    "print(f\"Унікальні роки у тестовій вибірці: {test_data['Year'].unique()}\")\n",
    "\n"
   ]
  },
  {
   "cell_type": "markdown",
   "id": "5e9acf9f-2541-42f1-a112-4dd3435a97ea",
   "metadata": {},
   "source": [
    "### 4. Відновіть пропущені дані за допомогою об'єкта SimpleImputer з пакету sklearn."
   ]
  },
  {
   "cell_type": "code",
   "execution_count": 18,
   "id": "6109d549-ce07-4729-a1a5-ef1cf66a41c6",
   "metadata": {},
   "outputs": [],
   "source": [
    "from sklearn.impute import SimpleImputer"
   ]
  },
  {
   "cell_type": "code",
   "execution_count": 19,
   "id": "732cf083-d987-4071-9e44-8555659fce90",
   "metadata": {},
   "outputs": [
    {
     "name": "stdout",
     "output_type": "stream",
     "text": [
      "Кількість пропусків у даних після імп'ютації:\n",
      "MinTemp             0\n",
      "MaxTemp             0\n",
      "Rainfall            0\n",
      "WindGustSpeed       0\n",
      "WindSpeed9am        0\n",
      "WindSpeed3pm        0\n",
      "Humidity9am         0\n",
      "Humidity3pm         0\n",
      "Pressure9am         0\n",
      "Pressure3pm         0\n",
      "Temp9am             0\n",
      "Temp3pm             0\n",
      "Year                0\n",
      "Date                0\n",
      "Location            0\n",
      "RainToday           0\n",
      "RainTomorrow        0\n",
      "WindDir3pm          0\n",
      "WindDir9am          0\n",
      "WindGustDir         0\n",
      "Month               0\n",
      "RainTomorrow     3267\n",
      "dtype: int64\n"
     ]
    }
   ],
   "source": [
    "# Видалення рядків із пропусками в цільовій змінній\n",
    "# Припустимо, що цільова змінна називається 'RainTomorrow'\n",
    "data = data.dropna(subset=['RainTomorrow'])\n",
    "\n",
    "# Ідентифікація числових та категоріальних ознак\n",
    "numerical_columns = numerical_data.columns\n",
    "categorical_columns = categorical_data.columns\n",
    "\n",
    "# Імп'ютер для числових даних: заміна пропусків на середнє\n",
    "numerical_imputer = SimpleImputer(strategy='mean')\n",
    "numerical_data_imputed = pd.DataFrame(\n",
    "    numerical_imputer.fit_transform(numerical_data),\n",
    "    columns=numerical_columns\n",
    ")\n",
    "\n",
    "# Імп'ютер для категоріальних даних: заміна пропусків на найпоширеніше значення\n",
    "categorical_imputer = SimpleImputer(strategy='most_frequent')\n",
    "categorical_data_imputed = pd.DataFrame(\n",
    "    categorical_imputer.fit_transform(categorical_data),\n",
    "    columns=categorical_columns\n",
    ")\n",
    "\n",
    "# Оновлення основного датасету\n",
    "data_imputed = pd.concat([numerical_data_imputed, categorical_data_imputed, data[['RainTomorrow']]], axis=1)\n",
    "\n",
    "# Перевірка наявності пропусків після імп'ютації\n",
    "print(\"Кількість пропусків у даних після імп'ютації:\")\n",
    "print(data_imputed.isnull().sum())\n"
   ]
  },
  {
   "cell_type": "markdown",
   "id": "7ede9644-8915-44de-8c02-5b06c7e93221",
   "metadata": {},
   "source": [
    "### 5. Нормалізуйте числові ознаки за допомогою об'єкта StandardScaler з пакету sklearn."
   ]
  },
  {
   "cell_type": "code",
   "execution_count": 20,
   "id": "2f085ab3-41de-424b-9dd3-97ccb90c8feb",
   "metadata": {},
   "outputs": [],
   "source": [
    "from sklearn.preprocessing import StandardScaler"
   ]
  },
  {
   "cell_type": "code",
   "execution_count": 21,
   "id": "1ca9614b-0924-4b6e-a21c-0a8f92142877",
   "metadata": {},
   "outputs": [
    {
     "name": "stdout",
     "output_type": "stream",
     "text": [
      "Перші кілька рядків нормалізованих числових даних:\n",
      "    MinTemp   MaxTemp  Rainfall  ...   Temp9am   Temp3pm      Year\n",
      "0  0.189447 -0.045336 -0.210072  ... -0.014053  0.017023 -1.879575\n",
      "1 -0.753101  0.265043 -0.281650  ...  0.032464  0.381985 -1.879575\n",
      "2  0.110901  0.349692 -0.281650  ...  0.621685  0.221402 -1.879575\n",
      "3 -0.470337  0.674180 -0.281650  ...  0.172017  0.703151 -1.879575\n",
      "4  0.833521  1.280830 -0.162353  ...  0.125499  1.170302 -1.879575\n",
      "\n",
      "[5 rows x 13 columns]\n"
     ]
    }
   ],
   "source": [
    "# Створення об'єкта StandardScaler\n",
    "scaler = StandardScaler()\n",
    "\n",
    "# Масштабування числових даних\n",
    "numerical_data_scaled = pd.DataFrame(\n",
    "    scaler.fit_transform(numerical_data_imputed),\n",
    "    columns=numerical_data_imputed.columns\n",
    ")\n",
    "\n",
    "# Перевірка результату\n",
    "print(\"Перші кілька рядків нормалізованих числових даних:\")\n",
    "print(numerical_data_scaled.head())\n",
    "\n",
    "\n"
   ]
  },
  {
   "cell_type": "markdown",
   "id": "e042470d-4726-43c2-8f77-511b7d844f7d",
   "metadata": {},
   "source": [
    "### 6. Виконайте кодування категоріальних ознак за допомогою об’єкта OneHotEncoder з пакету sklearn."
   ]
  },
  {
   "cell_type": "code",
   "execution_count": 22,
   "id": "2425e334-e8c8-4b55-a646-d2c905b503c5",
   "metadata": {},
   "outputs": [],
   "source": [
    "from sklearn.preprocessing import OneHotEncoder\n"
   ]
  },
  {
   "cell_type": "code",
   "execution_count": 23,
   "id": "4355cacc-05a1-44ab-94d3-42a2eb6576fa",
   "metadata": {},
   "outputs": [],
   "source": [
    "encoder = OneHotEncoder(drop='first', sparse_output=False)\n",
    "\n"
   ]
  },
  {
   "cell_type": "code",
   "execution_count": 24,
   "id": "c4fcbc3a-5f87-488b-b14f-056e87d6209f",
   "metadata": {},
   "outputs": [
    {
     "name": "stdout",
     "output_type": "stream",
     "text": [
      "Перші кілька рядків закодованих категоріальних даних:\n",
      "   Date_2007-11-02T00:00:00.000000000  ...  Month_12\n",
      "0                                 0.0  ...       1.0\n",
      "1                                 0.0  ...       1.0\n",
      "2                                 0.0  ...       1.0\n",
      "3                                 0.0  ...       1.0\n",
      "4                                 0.0  ...       1.0\n",
      "\n",
      "[5 rows x 3541 columns]\n"
     ]
    }
   ],
   "source": [
    "# Виконання one-hot encoding для категоріальних даних\n",
    "categorical_data_encoded = encoder.fit_transform(categorical_data_imputed)\n",
    "\n",
    "# Перетворення результату на DataFrame з відповідними назвами колонок\n",
    "categorical_encoded_columns = encoder.get_feature_names_out(categorical_data_imputed.columns)\n",
    "categorical_data_encoded_df = pd.DataFrame(\n",
    "    categorical_data_encoded,\n",
    "    columns=categorical_encoded_columns,\n",
    "    index=categorical_data_imputed.index\n",
    ")\n",
    "\n",
    "# Перевірка результату\n",
    "print(\"Перші кілька рядків закодованих категоріальних даних:\")\n",
    "print(categorical_data_encoded_df.head())\n"
   ]
  },
  {
   "cell_type": "markdown",
   "id": "cfc1e8a6-2f91-43e4-b98d-625a09bdf570",
   "metadata": {},
   "source": [
    "### 7. Об'єднайте підмножини з числовими і категоріальними ознаками (після кодування) для побудови моделі за допомогою об’єкта LogisticRegression з пакету sklearn."
   ]
  },
  {
   "cell_type": "code",
   "execution_count": 25,
   "id": "41c002dd-cd1e-4b3c-b64b-fad83db58a5a",
   "metadata": {},
   "outputs": [],
   "source": [
    "from sklearn.linear_model import LogisticRegression\n",
    "from sklearn.model_selection import train_test_split"
   ]
  },
  {
   "cell_type": "code",
   "execution_count": 30,
   "id": "595c9a49-0c13-45ab-b09d-df6b77f6cc38",
   "metadata": {},
   "outputs": [
    {
     "name": "stdout",
     "output_type": "stream",
     "text": [
      "0    No\n",
      "1    No\n",
      "2    No\n",
      "3    No\n",
      "4    No\n",
      "Name: RainTomorrow, dtype: object\n",
      "(145460,)\n"
     ]
    }
   ],
   "source": [
    "print(data_imputed['RainTomorrow'].head())  # Виводимо перші кілька значень\n",
    "print(data_imputed['RainTomorrow'].shape)  # Перевіряємо форму даних\n"
   ]
  },
  {
   "cell_type": "code",
   "execution_count": 31,
   "id": "8d18fbb1-bad9-4515-8ad1-4756523f20e2",
   "metadata": {},
   "outputs": [
    {
     "name": "stdout",
     "output_type": "stream",
     "text": [
      "[False False False False False False False False False False False False\n",
      " False False False False False False False False False]\n"
     ]
    }
   ],
   "source": [
    "print(data_imputed.columns.duplicated())\n"
   ]
  },
  {
   "cell_type": "code",
   "execution_count": 32,
   "id": "04aa036c-f95a-41d6-81bf-f70420a26352",
   "metadata": {},
   "outputs": [
    {
     "name": "stdout",
     "output_type": "stream",
     "text": [
      "Розмір X: (145460, 3554)\n",
      "Розмір y: (145460,)\n",
      "Точність моделі LogisticRegression після виправлення: 0.8509\n"
     ]
    }
   ],
   "source": [
    "# Видалення дублікатів колонок\n",
    "data_imputed = data_imputed.loc[:, ~data_imputed.columns.duplicated()]\n",
    "\n",
    "# Створення цільової змінної (y)\n",
    "y = data_imputed['RainTomorrow'].values.ravel()\n",
    "\n",
    "# Формування X із числових та категоріальних ознак\n",
    "X = pd.concat([numerical_data_scaled, categorical_data_encoded_df], axis=1)\n",
    "\n",
    "# Перевірка розмірів X та y\n",
    "print(f\"Розмір X: {X.shape}\")\n",
    "print(f\"Розмір y: {y.shape}\")\n",
    "\n",
    "# Видалення колонки 'RainTomorrow_Yes' із X\n",
    "X = X.drop(columns=['RainTomorrow_Yes'], errors='ignore')\n",
    "\n",
    "# Повторне розділення даних\n",
    "X_train, X_test, y_train, y_test = train_test_split(X, y, test_size=0.2, random_state=42)\n",
    "\n",
    "# Створення та навчання моделі\n",
    "model = LogisticRegression(solver='liblinear', random_state=42)\n",
    "model.fit(X_train, y_train)\n",
    "\n",
    "# Оцінка моделі\n",
    "y_pred = model.predict(X_test)\n",
    "accuracy = accuracy_score(y_test, y_pred)\n",
    "\n",
    "print(f\"Точність моделі LogisticRegression після виправлення: {accuracy:.4f}\")\n"
   ]
  },
  {
   "cell_type": "code",
   "execution_count": 33,
   "id": "dd4ff29e-b1e0-4cf3-99ed-6a414f5c4dae",
   "metadata": {},
   "outputs": [
    {
     "name": "stdout",
     "output_type": "stream",
     "text": [
      "Точність для solver='liblinear': 0.8509\n",
      "Точність для solver='lbfgs': 0.8504\n",
      "Точність для solver='newton-cg': 0.8509\n",
      "\n",
      "Результати експериментів з різними solvers:\n",
      "liblinear: 0.8509\n",
      "lbfgs: 0.8504\n",
      "newton-cg: 0.8509\n"
     ]
    }
   ],
   "source": [
    "# 5. Проведення експериментів із solver\n",
    "solvers = ['liblinear', 'lbfgs', 'newton-cg']\n",
    "results = {}\n",
    "\n",
    "for solver in solvers:\n",
    "    model = LogisticRegression(solver=solver, max_iter=1000, random_state=42)\n",
    "    model.fit(X_train, y_train)\n",
    "    accuracy = model.score(X_test, y_test)\n",
    "    results[solver] = accuracy\n",
    "    print(f\"Точність для solver='{solver}': {accuracy:.4f}\")\n",
    "\n",
    "# Порівняння результатів\n",
    "print(\"\\nРезультати експериментів з різними solvers:\")\n",
    "for solver, acc in results.items():\n",
    "    print(f\"{solver}: {acc:.4f}\")"
   ]
  },
  {
   "cell_type": "code",
   "execution_count": 34,
   "id": "3d111404-cd47-422c-8f4e-aced20e140e5",
   "metadata": {},
   "outputs": [
    {
     "name": "stdout",
     "output_type": "stream",
     "text": [
      "Цільової змінної 'RainTomorrow' немає у X_train.\n"
     ]
    }
   ],
   "source": [
    "# Перевірка, чи цільова змінна міститься в X_train\n",
    "if 'RainTomorrow' in X_train.columns:\n",
    "    print(\"Цільова змінна 'RainTomorrow' є у X_train!\")\n",
    "else:\n",
    "    print(\"Цільової змінної 'RainTomorrow' немає у X_train.\")\n"
   ]
  },
  {
   "cell_type": "code",
   "execution_count": 35,
   "id": "20fef04b-7283-4718-a277-e6bf3b411dd9",
   "metadata": {},
   "outputs": [
    {
     "name": "stdout",
     "output_type": "stream",
     "text": [
      "Колонки у X_train, що містять 'Rain': ['Rainfall', 'RainToday_Yes']\n"
     ]
    }
   ],
   "source": [
    "# Пошук колонок, які містять назву 'Rain'\n",
    "columns_with_rain = [col for col in X_train.columns if 'Rain' in col]\n",
    "print(f\"Колонки у X_train, що містять 'Rain': {columns_with_rain}\")\n"
   ]
  },
  {
   "cell_type": "code",
   "execution_count": 36,
   "id": "c2cd6b6f-5708-4863-86a0-1954816f6812",
   "metadata": {},
   "outputs": [
    {
     "name": "stdout",
     "output_type": "stream",
     "text": [
      "Колонки 'RainTomorrow_No' немає у X.\n"
     ]
    }
   ],
   "source": [
    "# Перевірка, чи є колонка 'RainTomorrow_No' у X\n",
    "if 'RainTomorrow_No' in X.columns:\n",
    "    print(\"Колонка 'RainTomorrow_No' є у X!\")\n",
    "else:\n",
    "    print(\"Колонки 'RainTomorrow_No' немає у X.\")\n"
   ]
  },
  {
   "cell_type": "markdown",
   "id": "116c4c73-3803-42fb-87a7-5423be6ee7de",
   "metadata": {},
   "source": [
    "1. Точність моделі після виправлення: 0.8509\n",
    "\n",
    "    - Це свідчить про те, що модель логістичної регресії працює адекватно. Видалення колонки RainTomorrow_Yes, яка була похідною від цільової змінної, виправило переобучення.\n",
    "\n",
    "2. Результати з різними solver:\n",
    "\n",
    "    - Точність для різних solver (наприклад, liblinear, lbfgs, newton-cg) залишилася майже ідентичною, що підтверджує стабільність результатів.\n",
    "\n",
    "3. Важливість перевірки колонок:\n",
    "\n",
    "    - Колонки Rainfall та RainToday_Yes можуть бути важливими предикторами, але вони не є безпосередньо похідними від цільової змінної. Модель не \"знає\" відповіді заздалегідь.\n"
   ]
  },
  {
   "cell_type": "markdown",
   "id": "05b4ecd4-522c-4dbe-a283-ac1a5217601c",
   "metadata": {},
   "source": [
    "### Додаткові метрики (рекомендовано для аналізу): Використовуйте класифікаційний звіт (classification_report) для детальної оцінки."
   ]
  },
  {
   "cell_type": "code",
   "execution_count": 37,
   "id": "42feb9f0-4ef7-4571-a1b0-0741329dcd0f",
   "metadata": {},
   "outputs": [
    {
     "name": "stdout",
     "output_type": "stream",
     "text": [
      "Класифікаційний звіт:\n",
      "              precision    recall  f1-score   support\n",
      "\n",
      "          No       0.87      0.95      0.91     22672\n",
      "         Yes       0.73      0.52      0.60      6420\n",
      "\n",
      "    accuracy                           0.85     29092\n",
      "   macro avg       0.80      0.73      0.76     29092\n",
      "weighted avg       0.84      0.85      0.84     29092\n",
      "\n"
     ]
    }
   ],
   "source": [
    "from sklearn.metrics import classification_report\n",
    "\n",
    "print(\"Класифікаційний звіт:\")\n",
    "print(classification_report(y_test, y_pred))\n"
   ]
  },
  {
   "cell_type": "code",
   "execution_count": 38,
   "id": "77c75a9c-e349-4f66-99f4-a301a436d7da",
   "metadata": {},
   "outputs": [
    {
     "name": "stdout",
     "output_type": "stream",
     "text": [
      "Матриця плутанини:\n",
      "[[21434  1238]\n",
      " [ 3101  3319]]\n"
     ]
    }
   ],
   "source": [
    "from sklearn.metrics import confusion_matrix\n",
    "\n",
    "cm = confusion_matrix(y_test, y_pred)\n",
    "print(\"Матриця плутанини:\")\n",
    "print(cm)\n"
   ]
  },
  {
   "cell_type": "code",
   "execution_count": 80,
   "id": "df286dac-4dd2-4518-8154-f7b96ed73e87",
   "metadata": {},
   "outputs": [
    {
     "name": "stdout",
     "output_type": "stream",
     "text": [
      "Унікальні значення після перекодування: {np.int64(0), np.int64(1)}\n"
     ]
    },
    {
     "data": {
      "image/png": "[encoded data removed]",
      "text/plain": [
       "<Figure size 640x480 with 1 Axes>"
      ]
     },
     "metadata": {},
     "output_type": "display_data"
    }
   ],
   "source": [
    "from sklearn.preprocessing import LabelEncoder\n",
    "\n",
    "# Перекодування цільової змінної\n",
    "le = LabelEncoder()\n",
    "y_test_numeric = le.fit_transform(y_test)  # 'No' -> 0, 'Yes' -> 1\n",
    "\n",
    "# Перевірка перекодування\n",
    "print(f\"Унікальні значення після перекодування: {set(y_test_numeric)}\")  # Має бути {0, 1}\n",
    "\n",
    "# Побудова ROC-кривої\n",
    "fpr, tpr, thresholds = roc_curve(y_test_numeric, y_prob)\n",
    "plt.plot(fpr, tpr, label=f\"ROC curve (AUC = {auc_score:.2f})\")\n",
    "plt.xlabel(\"False Positive Rate\")\n",
    "plt.ylabel(\"True Positive Rate\")\n",
    "plt.legend(loc=\"lower right\")\n",
    "plt.show()\n"
   ]
  },
  {
   "cell_type": "markdown",
   "id": "f3fc4815-ebb5-4321-bd97-aff0f2696c9b",
   "metadata": {},
   "source": [
    "### Висновки:\n",
    "Модель добре справляється із класифікацією:\n",
    "\n",
    "AUC = 0.87 означає, що модель має високий рівень передбачення правильних результатів.\n"
   ]
  },
  {
   "cell_type": "code",
   "execution_count": null,
   "id": "566c6901-2064-409e-a314-bdc5c699032f",
   "metadata": {},
   "outputs": [],
   "source": []
  }
 ],
 "metadata": {
  "kernelspec": {
   "display_name": "Python 3 (Spyder)",
   "language": "python3",
   "name": "python3"
  },
  "language_info": {
   "codemirror_mode": {
    "name": "ipython",
    "version": 3
   },
   "file_extension": ".py",
   "mimetype": "text/x-python",
   "name": "python",
   "nbconvert_exporter": "python",
   "pygments_lexer": "ipython3",
   "version": "3.11.10"
  }
 },
 "nbformat": 4,
 "nbformat_minor": 5
}
