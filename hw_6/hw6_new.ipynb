{
 "cells": [
  {
   "cell_type": "markdown",
   "id": "fe88256f-2113-4085-9d2b-8d41da7d75fc",
   "metadata": {},
   "source": [
    "## Домашнє завдання до модуля «Алгоритми навчання з вчителем Ч.2»"
   ]
  },
  {
   "cell_type": "markdown",
   "id": "3da23e0c-974b-4517-a7af-2485924214fd",
   "metadata": {},
   "source": [
    "### 1. Здійсніть імпорт необхідних пакетів."
   ]
  },
  {
   "cell_type": "code",
   "execution_count": 1,
   "id": "d7060ba5-ba9b-4568-9e30-bb86d1e72bf0",
   "metadata": {},
   "outputs": [],
   "source": [
    "import pandas as pd\n",
    "import numpy as np\n",
    "from sklearn.model_selection import train_test_split\n",
    "from sklearn.preprocessing import StandardScaler, OneHotEncoder\n",
    "from sklearn.impute import SimpleImputer\n",
    "from sklearn.compose import ColumnTransformer\n",
    "from sklearn.pipeline import Pipeline\n",
    "from sklearn.linear_model import LogisticRegression\n",
    "from sklearn.metrics import classification_report\n",
    "\n"
   ]
  },
  {
   "cell_type": "markdown",
   "id": "8eee355c-09b2-46cd-bb52-761f44248f87",
   "metadata": {},
   "source": [
    " ### 2. Завантажте набір даних Rain in Australia"
   ]
  },
  {
   "cell_type": "code",
   "execution_count": 2,
   "id": "eb5a2c80-9131-4287-8b82-40ddb9b7a6bb",
   "metadata": {},
   "outputs": [
    {
     "name": "stdout",
     "output_type": "stream",
     "text": [
      "         Date Location  MinTemp  ...  Temp3pm  RainToday  RainTomorrow\n",
      "0  2008-12-01   Albury     13.4  ...     21.8         No            No\n",
      "1  2008-12-02   Albury      7.4  ...     24.3         No            No\n",
      "2  2008-12-03   Albury     12.9  ...     23.2         No            No\n",
      "3  2008-12-04   Albury      9.2  ...     26.5         No            No\n",
      "4  2008-12-05   Albury     17.5  ...     29.7         No            No\n",
      "\n",
      "[5 rows x 23 columns]\n"
     ]
    }
   ],
   "source": [
    "# Завантаження датасету\n",
    "data = pd.read_csv('rain_in_australia.csv')\n",
    "\n",
    "# Перегляд перших кількох рядків\n",
    "print(data.head())\n"
   ]
  },
  {
   "cell_type": "code",
   "execution_count": 3,
   "id": "e532c8eb-e6a0-4875-b29c-9d51a3f7d5e9",
   "metadata": {},
   "outputs": [
    {
     "name": "stdout",
     "output_type": "stream",
     "text": [
      "Date                 0\n",
      "Location             0\n",
      "MinTemp           1485\n",
      "MaxTemp           1261\n",
      "Rainfall          3261\n",
      "Evaporation      62790\n",
      "Sunshine         69835\n",
      "WindGustDir      10326\n",
      "WindGustSpeed    10263\n",
      "WindDir9am       10566\n",
      "WindDir3pm        4228\n",
      "WindSpeed9am      1767\n",
      "WindSpeed3pm      3062\n",
      "Humidity9am       2654\n",
      "Humidity3pm       4507\n",
      "Pressure9am      15065\n",
      "Pressure3pm      15028\n",
      "Cloud9am         55888\n",
      "Cloud3pm         59358\n",
      "Temp9am           1767\n",
      "Temp3pm           3609\n",
      "RainToday         3261\n",
      "RainTomorrow      3267\n",
      "dtype: int64\n"
     ]
    }
   ],
   "source": [
    "# Підрахунок пропущених значень\n",
    "missing_values = data.isnull().sum()\n",
    "\n",
    "# Відображення кількості пропущених значень у кожному стовпці\n",
    "print(missing_values)"
   ]
  },
  {
   "cell_type": "markdown",
   "id": "47883a76-ab01-40a0-94cd-f8e50ea23958",
   "metadata": {},
   "source": [
    "### 3: Видалення ознак з великою кількістю пропущених значень"
   ]
  },
  {
   "cell_type": "code",
   "execution_count": 4,
   "id": "93a986e6-7dcb-4db9-a82f-75da72745710",
   "metadata": {},
   "outputs": [
    {
     "name": "stdout",
     "output_type": "stream",
     "text": [
      "Розміри набору даних після видалення ознак: (145460, 19)\n",
      "Залишені колонки: Index(['Date', 'Location', 'MinTemp', 'MaxTemp', 'Rainfall', 'WindGustDir',\n",
      "       'WindGustSpeed', 'WindDir9am', 'WindDir3pm', 'WindSpeed9am',\n",
      "       'WindSpeed3pm', 'Humidity9am', 'Humidity3pm', 'Pressure9am',\n",
      "       'Pressure3pm', 'Temp9am', 'Temp3pm', 'RainToday', 'RainTomorrow'],\n",
      "      dtype='object')\n"
     ]
    }
   ],
   "source": [
    "# Встановимо поріг для видалення ознак з великою кількістю пропусків\n",
    "threshold = 0.3  # Наприклад, якщо пропущено більше 30% значень\n",
    "\n",
    "# Обчислюємо частку пропущених значень у кожному стовпці\n",
    "missing_ratio = data.isnull().sum() / len(data)\n",
    "\n",
    "# Вибираємо лише ті стовпці, де частка пропусків менша за поріг\n",
    "columns_to_keep = missing_ratio[missing_ratio < threshold].index\n",
    "\n",
    "# Оновлюємо датасет, залишаючи лише вибрані стовпці\n",
    "data = data[columns_to_keep]\n",
    "\n",
    "# Перевіряємо нові розміри датасету\n",
    "print(f\"Розміри набору даних після видалення ознак: {data.shape}\")\n",
    "\n",
    "# Виведемо залишені колонки\n",
    "print(\"Залишені колонки:\", data.columns)\n"
   ]
  },
  {
   "cell_type": "code",
   "execution_count": 5,
   "id": "2d28d578-49b3-44bb-b225-5120ac6d3271",
   "metadata": {},
   "outputs": [
    {
     "name": "stdout",
     "output_type": "stream",
     "text": [
      "Кількість пропущених значень після заміни: 0\n",
      "         Date Location  MinTemp  ...  Temp3pm  RainToday RainTomorrow\n",
      "0  2008-12-01   Albury     13.4  ...     21.8         No           No\n",
      "1  2008-12-02   Albury      7.4  ...     24.3         No           No\n",
      "2  2008-12-03   Albury     12.9  ...     23.2         No           No\n",
      "3  2008-12-04   Albury      9.2  ...     26.5         No           No\n",
      "4  2008-12-05   Albury     17.5  ...     29.7         No           No\n",
      "\n",
      "[5 rows x 19 columns]\n"
     ]
    }
   ],
   "source": [
    "# Замінюємо всі пропущені значення на 0\n",
    "data.fillna(0, inplace=True)\n",
    "\n",
    "# Перевіряємо, чи немає більше пропусків\n",
    "print(\"Кількість пропущених значень після заміни:\", data.isnull().sum().sum())\n",
    "\n",
    "# Виведемо перші кілька рядків, щоб переконатися, що зміни застосовано\n",
    "print(data.head())\n"
   ]
  },
  {
   "cell_type": "code",
   "execution_count": 6,
   "id": "e1490f69-8448-47b2-bd6b-0343d842b5fe",
   "metadata": {},
   "outputs": [
    {
     "name": "stdout",
     "output_type": "stream",
     "text": [
      "   RainToday  RainTomorrow\n",
      "0        0.0           0.0\n",
      "1        0.0           0.0\n",
      "2        0.0           0.0\n",
      "3        0.0           0.0\n",
      "4        0.0           0.0\n"
     ]
    }
   ],
   "source": [
    "# Заміна значень у колонках RainToday та RainTomorrow\n",
    "data['RainToday'] = data['RainToday'].map({'No': 0, 'Yes': 1})\n",
    "data['RainTomorrow'] = data['RainTomorrow'].map({'No': 0, 'Yes': 1})\n",
    "\n",
    "# Перевіряємо результат\n",
    "print(data[['RainToday', 'RainTomorrow']].head())\n"
   ]
  },
  {
   "cell_type": "markdown",
   "id": "45908ebe-7de2-4b33-af15-b280b4ebf25b",
   "metadata": {},
   "source": [
    "### 3.2. Створіть підмножини набору даних із числовими та категоріальними ознаками."
   ]
  },
  {
   "cell_type": "code",
   "execution_count": 7,
   "id": "b4a8ef40-35a0-48f5-8a32-b7428b4b9587",
   "metadata": {},
   "outputs": [
    {
     "name": "stdout",
     "output_type": "stream",
     "text": [
      "Числові ознаки (14): ['MinTemp', 'MaxTemp', 'Rainfall', 'WindGustSpeed', 'WindSpeed9am', 'WindSpeed3pm', 'Humidity9am', 'Humidity3pm', 'Pressure9am', 'Pressure3pm', 'Temp9am', 'Temp3pm', 'RainToday', 'RainTomorrow']\n",
      "Категоріальні ознаки (5): ['Date', 'Location', 'WindGustDir', 'WindDir9am', 'WindDir3pm']\n",
      "\n",
      "Перші рядки числових ознак:\n",
      "   MinTemp  MaxTemp  Rainfall  ...  Temp3pm  RainToday  RainTomorrow\n",
      "0     13.4     22.9       0.6  ...     21.8        0.0           0.0\n",
      "1      7.4     25.1       0.0  ...     24.3        0.0           0.0\n",
      "2     12.9     25.7       0.0  ...     23.2        0.0           0.0\n",
      "3      9.2     28.0       0.0  ...     26.5        0.0           0.0\n",
      "4     17.5     32.3       1.0  ...     29.7        0.0           0.0\n",
      "\n",
      "[5 rows x 14 columns]\n",
      "\n",
      "Перші рядки категоріальних ознак:\n",
      "         Date Location WindGustDir WindDir9am WindDir3pm\n",
      "0  2008-12-01   Albury           W          W        WNW\n",
      "1  2008-12-02   Albury         WNW        NNW        WSW\n",
      "2  2008-12-03   Albury         WSW          W        WSW\n",
      "3  2008-12-04   Albury          NE         SE          E\n",
      "4  2008-12-05   Albury           W        ENE         NW\n"
     ]
    }
   ],
   "source": [
    "# Вибираємо числові ознаки\n",
    "numerical_features = data.select_dtypes(include=['int64', 'float64']).columns\n",
    "data_numerical = data[numerical_features]\n",
    "\n",
    "# Вибираємо категоріальні ознаки\n",
    "categorical_features = data.select_dtypes(include=['object', 'category']).columns\n",
    "data_categorical = data[categorical_features]\n",
    "\n",
    "# Виводимо кількість ознак у кожній групі\n",
    "print(f\"Числові ознаки ({len(numerical_features)}): {list(numerical_features)}\")\n",
    "print(f\"Категоріальні ознаки ({len(categorical_features)}): {list(categorical_features)}\")\n",
    "\n",
    "# Перевіряємо перші кілька рядків числових та категоріальних підмножин\n",
    "print(\"\\nПерші рядки числових ознак:\")\n",
    "print(data_numerical.head())\n",
    "\n",
    "print(\"\\nПерші рядки категоріальних ознак:\")\n",
    "print(data_categorical.head())\n"
   ]
  },
  {
   "cell_type": "markdown",
   "id": "3b464aee-837b-4e48-a74a-cfa371a21083",
   "metadata": {},
   "source": [
    "### 3.3. Змініть тип колонки Date на тип datetimeі створіть додаткові колонки Year та Month."
   ]
  },
  {
   "cell_type": "code",
   "execution_count": 8,
   "id": "c38b4acf-37f0-4250-940d-96e20789fdbf",
   "metadata": {},
   "outputs": [],
   "source": [
    "# Перетворення типу Date на datetime\n",
    "data['Date'] = pd.to_datetime(data['Date'], format='%Y-%m-%d')\n"
   ]
  },
  {
   "cell_type": "code",
   "execution_count": 9,
   "id": "b4c950c5-05da-46ba-bf66-ed68cd3e99af",
   "metadata": {},
   "outputs": [
    {
     "name": "stdout",
     "output_type": "stream",
     "text": [
      "        Date  Year  Month\n",
      "0 2008-12-01  2008     12\n",
      "1 2008-12-02  2008     12\n",
      "2 2008-12-03  2008     12\n",
      "3 2008-12-04  2008     12\n",
      "4 2008-12-05  2008     12\n"
     ]
    }
   ],
   "source": [
    "# Створення нових колонок\n",
    "data['Year'] = data['Date'].dt.year\n",
    "data['Month'] = data['Date'].dt.month\n",
    "\n",
    "# Перевіримо, чи додались нові колонки\n",
    "print(data[['Date', 'Year', 'Month']].head())"
   ]
  },
  {
   "cell_type": "code",
   "execution_count": 10,
   "id": "e9ebc09f-cc57-428e-ae00-f82c2cbef70c",
   "metadata": {},
   "outputs": [],
   "source": [
    "# Видаляємо колонку Date\n",
    "data.drop(columns=['Date'], inplace=True)"
   ]
  },
  {
   "cell_type": "code",
   "execution_count": 11,
   "id": "a7e53c28-dad7-46e4-a627-f6f37f6e8742",
   "metadata": {},
   "outputs": [
    {
     "name": "stdout",
     "output_type": "stream",
     "text": [
      "Унікальні значення в колонці 'Year': [2008 2009 2010 2011 2012 2013 2014 2015 2016 2017 2007]\n",
      "Унікальні значення в колонці 'Month': [12  1  2  3  4  5  6  7  8  9 10 11]\n"
     ]
    }
   ],
   "source": [
    "# Унікальні значення в колонках Year і Month\n",
    "print(\"Унікальні значення в колонці 'Year':\", data['Year'].unique())\n",
    "print(\"Унікальні значення в колонці 'Month':\", data['Month'].unique())\n"
   ]
  },
  {
   "cell_type": "markdown",
   "id": "0c48b031-7caa-4684-a42d-3f019f9f7a0d",
   "metadata": {},
   "source": [
    "###  3.4. Переміcтить створену нову колонку Year з підмножини набору із категоріальними ознаками до підмножини із числовими ознаками."
   ]
  },
  {
   "cell_type": "code",
   "execution_count": 12,
   "id": "9439054a-51bf-42d3-8222-e072e8bbf0f7",
   "metadata": {},
   "outputs": [
    {
     "name": "stdout",
     "output_type": "stream",
     "text": [
      "Оновлені числові ознаки:\n",
      "   MinTemp  MaxTemp  Rainfall  ...  RainToday  RainTomorrow  Year\n",
      "0     13.4     22.9       0.6  ...        0.0           0.0  2008\n",
      "1      7.4     25.1       0.0  ...        0.0           0.0  2008\n",
      "2     12.9     25.7       0.0  ...        0.0           0.0  2008\n",
      "3      9.2     28.0       0.0  ...        0.0           0.0  2008\n",
      "4     17.5     32.3       1.0  ...        0.0           0.0  2008\n",
      "\n",
      "[5 rows x 15 columns]\n",
      "\n",
      "Оновлені категоріальні ознаки:\n",
      "  Location WindGustDir WindDir9am WindDir3pm  Month\n",
      "0   Albury           W          W        WNW     12\n",
      "1   Albury         WNW        NNW        WSW     12\n",
      "2   Albury         WSW          W        WSW     12\n",
      "3   Albury          NE         SE          E     12\n",
      "4   Albury           W        ENE         NW     12\n"
     ]
    }
   ],
   "source": [
    "# Створюємо копії підмножин, щоб уникнути попередження\n",
    "data_numerical = data_numerical.copy()\n",
    "data_categorical = data_categorical.copy()\n",
    "\n",
    "# Видаляємо колонку 'Date' з категоріальних ознак\n",
    "data_categorical = data_categorical.drop(columns=['Date'])\n",
    "\n",
    "# Додаємо колонку Year до числових ознак\n",
    "data_numerical['Year'] = data['Year']\n",
    "\n",
    "# Додаємо колонку Month до категоріальних ознак\n",
    "data_categorical['Month'] = data['Month']\n",
    "\n",
    "# Видаляємо колонки 'Year' та 'Month' з основного DataFrame, щоб уникнути дублювання\n",
    "data = data.drop(columns=['Year', 'Month'])\n",
    "\n",
    "# Перевіряємо результат\n",
    "print(\"Оновлені числові ознаки:\")\n",
    "print(data_numerical.head())\n",
    "\n",
    "print(\"\\nОновлені категоріальні ознаки:\")\n",
    "print(data_categorical.head())\n"
   ]
  },
  {
   "cell_type": "code",
   "execution_count": 13,
   "id": "fdbe3125-8d0b-412e-a01e-cd3114c0f2c9",
   "metadata": {},
   "outputs": [
    {
     "name": "stdout",
     "output_type": "stream",
     "text": [
      "Оновлені категоріальні ознаки після перетворення Month на строковий тип:\n",
      "  Location WindGustDir WindDir9am WindDir3pm Month\n",
      "0   Albury           W          W        WNW    12\n",
      "1   Albury         WNW        NNW        WSW    12\n",
      "2   Albury         WSW          W        WSW    12\n",
      "3   Albury          NE         SE          E    12\n",
      "4   Albury           W        ENE         NW    12\n"
     ]
    }
   ],
   "source": [
    "# Перетворюємо Month на строковий тип\n",
    "data_categorical['Month'] = data_categorical['Month'].astype(str)\n",
    "\n",
    "# Перевіряємо зміни\n",
    "print(\"Оновлені категоріальні ознаки після перетворення Month на строковий тип:\")\n",
    "print(data_categorical.head())\n"
   ]
  },
  {
   "cell_type": "markdown",
   "id": "5075a2a7-2323-4fc5-9375-ad86a2d7b3f5",
   "metadata": {},
   "source": [
    "### 3.5. Розбийте підмножини на тренувальну і тестову вибірки за такою логікою: до тестової вибірки віднесіть всі об'єкти із набору даних із останнім (максимальним) роком спостережень, а для навчання моделі залиште всі інші об'єкти."
   ]
  },
  {
   "cell_type": "code",
   "execution_count": 14,
   "id": "dcf9981e-a9b9-4b03-af7f-dc3a70d66fb9",
   "metadata": {},
   "outputs": [
    {
     "name": "stdout",
     "output_type": "stream",
     "text": [
      "Максимальний рік у даних: 2017\n",
      "Розмір тренувальної вибірки: (136837, 14), (136837, 5), (136837,)\n",
      "Розмір тестової вибірки: (8623, 14), (8623, 5), (8623,)\n"
     ]
    }
   ],
   "source": [
    "# Знаходимо максимальний рік у колонці Year\n",
    "max_year = data_numerical['Year'].max()\n",
    "print(f\"Максимальний рік у даних: {max_year}\")\n",
    "\n",
    "# Розділяємо числові ознаки на тренувальну і тестову вибірки\n",
    "X_train_numerical = data_numerical[data_numerical['Year'] < max_year]\n",
    "X_test_numerical = data_numerical[data_numerical['Year'] == max_year]\n",
    "\n",
    "# Розділяємо категоріальні ознаки на тренувальну і тестову вибірки\n",
    "X_train_categorical = data_categorical[data_numerical['Year'] < max_year]\n",
    "X_test_categorical = data_categorical[data_numerical['Year'] == max_year]\n",
    "\n",
    "# Розділяємо цільову змінну RainTomorrow\n",
    "y_train = X_train_numerical['RainTomorrow']\n",
    "y_test = X_test_numerical['RainTomorrow']\n",
    "\n",
    "# Видаляємо колонку RainTomorrow з числових ознак\n",
    "X_train_numerical = X_train_numerical.drop(columns=['RainTomorrow'])\n",
    "X_test_numerical = X_test_numerical.drop(columns=['RainTomorrow'])\n",
    "\n",
    "# Перевіряємо розміри отриманих наборів\n",
    "print(f\"Розмір тренувальної вибірки: {X_train_numerical.shape}, {X_train_categorical.shape}, {y_train.shape}\")\n",
    "print(f\"Розмір тестової вибірки: {X_test_numerical.shape}, {X_test_categorical.shape}, {y_test.shape}\")\n",
    "\n",
    "\n"
   ]
  },
  {
   "cell_type": "code",
   "execution_count": 16,
   "id": "0d78b3c6-fd18-4969-b8ad-31fc3cab72c7",
   "metadata": {},
   "outputs": [
    {
     "name": "stdout",
     "output_type": "stream",
     "text": [
      "Унікальні значення в y_train: [ 0.  1. nan]\n",
      "Унікальні значення в y_test: [ 0.  1. nan]\n",
      "\n",
      "Розподіл класів у y_train:\n",
      "RainTomorrow\n",
      "0.0    0.77481\n",
      "1.0    0.22519\n",
      "Name: proportion, dtype: float64\n",
      "\n",
      "Розподіл класів у y_test:\n",
      "RainTomorrow\n",
      "0.0    0.791755\n",
      "1.0    0.208245\n",
      "Name: proportion, dtype: float64\n"
     ]
    }
   ],
   "source": [
    "# Перевіряємо унікальні значення у RainTomorrow для тренувальної та тестової вибірок\n",
    "print(\"Унікальні значення в y_train:\", y_train.unique())\n",
    "print(\"Унікальні значення в y_test:\", y_test.unique())\n",
    "\n",
    "# Перевіряємо розподіл класів у тренувальному наборі\n",
    "print(\"\\nРозподіл класів у y_train:\")\n",
    "print(y_train.value_counts(normalize=True))\n",
    "\n",
    "# Перевіряємо розподіл класів у тестовому наборі\n",
    "print(\"\\nРозподіл класів у y_test:\")\n",
    "print(y_test.value_counts(normalize=True))\n"
   ]
  },
  {
   "cell_type": "code",
   "execution_count": 17,
   "id": "9e5d3169-09ad-49ac-a159-7e887602e0c9",
   "metadata": {},
   "outputs": [
    {
     "name": "stdout",
     "output_type": "stream",
     "text": [
      "Унікальні значення в y_train після заміни NaN: [0. 1.]\n",
      "Унікальні значення в y_test після заміни NaN: [0. 1.]\n",
      "\n",
      "Розподіл класів у y_train після заміни NaN:\n",
      "RainTomorrow\n",
      "0.0    0.779928\n",
      "1.0    0.220072\n",
      "Name: proportion, dtype: float64\n",
      "\n",
      "Розподіл класів у y_test після заміни NaN:\n",
      "RainTomorrow\n",
      "0.0    0.795547\n",
      "1.0    0.204453\n",
      "Name: proportion, dtype: float64\n"
     ]
    }
   ],
   "source": [
    "# Замінюємо NaN у цільовій змінній на 0\n",
    "y_train = y_train.fillna(0)\n",
    "y_test = y_test.fillna(0)\n",
    "\n",
    "# Перевіряємо унікальні значення знову\n",
    "print(\"Унікальні значення в y_train після заміни NaN:\", y_train.unique())\n",
    "print(\"Унікальні значення в y_test після заміни NaN:\", y_test.unique())\n",
    "\n",
    "# Повторно перевіряємо розподіл класів\n",
    "print(\"\\nРозподіл класів у y_train після заміни NaN:\")\n",
    "print(y_train.value_counts(normalize=True))\n",
    "\n",
    "print(\"\\nРозподіл класів у y_test після заміни NaN:\")\n",
    "print(y_test.value_counts(normalize=True))\n"
   ]
  },
  {
   "cell_type": "markdown",
   "id": "5e9acf9f-2541-42f1-a112-4dd3435a97ea",
   "metadata": {},
   "source": [
    "### 4. Відновіть пропущені дані за допомогою об'єкта SimpleImputer з пакету sklearn."
   ]
  },
  {
   "cell_type": "code",
   "execution_count": 18,
   "id": "6109d549-ce07-4729-a1a5-ef1cf66a41c6",
   "metadata": {},
   "outputs": [],
   "source": [
    "from sklearn.impute import SimpleImputer"
   ]
  },
  {
   "cell_type": "code",
   "execution_count": 19,
   "id": "34cde56b-315d-4198-a874-28e4752f99eb",
   "metadata": {},
   "outputs": [
    {
     "name": "stdout",
     "output_type": "stream",
     "text": [
      "Кількість пропусків у тренувальному наборі після імпутації:\n",
      "MinTemp          0\n",
      "MaxTemp          0\n",
      "Rainfall         0\n",
      "WindGustSpeed    0\n",
      "WindSpeed9am     0\n",
      "WindSpeed3pm     0\n",
      "Humidity9am      0\n",
      "Humidity3pm      0\n",
      "Pressure9am      0\n",
      "Pressure3pm      0\n",
      "Temp9am          0\n",
      "Temp3pm          0\n",
      "RainToday        0\n",
      "Year             0\n",
      "dtype: int64\n",
      "\n",
      "Кількість пропусків у тестовому наборі після імпутації:\n",
      "MinTemp          0\n",
      "MaxTemp          0\n",
      "Rainfall         0\n",
      "WindGustSpeed    0\n",
      "WindSpeed9am     0\n",
      "WindSpeed3pm     0\n",
      "Humidity9am      0\n",
      "Humidity3pm      0\n",
      "Pressure9am      0\n",
      "Pressure3pm      0\n",
      "Temp9am          0\n",
      "Temp3pm          0\n",
      "RainToday        0\n",
      "Year             0\n",
      "dtype: int64\n"
     ]
    }
   ],
   "source": [
    "\n",
    "\n",
    "# Ініціалізуємо SimpleImputer з потрібною стратегією (наприклад, середнє значення)\n",
    "imputer = SimpleImputer(strategy='mean')  # Заміна пропусків на середнє значення\n",
    "\n",
    "# Відновлюємо пропущені значення для числових ознак\n",
    "X_train_numerical_imputed = pd.DataFrame(imputer.fit_transform(X_train_numerical), columns=X_train_numerical.columns)\n",
    "X_test_numerical_imputed = pd.DataFrame(imputer.transform(X_test_numerical), columns=X_test_numerical.columns)\n",
    "\n",
    "# Перевіряємо, чи немає пропусків після обробки\n",
    "print(\"Кількість пропусків у тренувальному наборі після імпутації:\")\n",
    "print(X_train_numerical_imputed.isnull().sum())\n",
    "\n",
    "print(\"\\nКількість пропусків у тестовому наборі після імпутації:\")\n",
    "print(X_test_numerical_imputed.isnull().sum())\n"
   ]
  },
  {
   "cell_type": "markdown",
   "id": "5d301064-755f-42eb-9932-3636981866ba",
   "metadata": {},
   "source": [
    "### 5. Нормалізуйте числові ознаки за допомогою об'єкта StandardScaler з пакету sklearn."
   ]
  },
  {
   "cell_type": "code",
   "execution_count": 20,
   "id": "2f085ab3-41de-424b-9dd3-97ccb90c8feb",
   "metadata": {},
   "outputs": [],
   "source": [
    "from sklearn.preprocessing import StandardScaler"
   ]
  },
  {
   "cell_type": "code",
   "execution_count": 21,
   "id": "1ca9614b-0924-4b6e-a21c-0a8f92142877",
   "metadata": {},
   "outputs": [
    {
     "name": "stdout",
     "output_type": "stream",
     "text": [
      "Перші кілька рядків тренувального набору після нормалізації:\n",
      "    MinTemp   MaxTemp  Rainfall  ...   Temp3pm  RainToday      Year\n",
      "0  0.220447 -0.001094 -0.203173  ...  0.093248  -0.545373 -1.895026\n",
      "1 -0.708805  0.296495 -0.274882  ...  0.423970  -0.545373 -1.895026\n",
      "2  0.143010  0.377656 -0.274882  ...  0.278452  -0.545373 -1.895026\n",
      "3 -0.430029  0.688773 -0.274882  ...  0.715007  -0.545373 -1.895026\n",
      "4  0.855436  1.270425 -0.155367  ...  1.138332  -0.545373 -1.895026\n",
      "\n",
      "[5 rows x 14 columns]\n",
      "\n",
      "Перші кілька рядків тестового набору після нормалізації:\n",
      "    MinTemp   MaxTemp  Rainfall  ...   Temp3pm  RainToday      Year\n",
      "0  0.545686  1.175738 -0.274882  ...  1.363223  -0.545373  1.892354\n",
      "1  0.452760  1.229845 -0.274882  ...  1.244163  -0.545373  1.892354\n",
      "2  0.266910  1.229845 -0.274882  ...  1.111874  -0.545373  1.892354\n",
      "3  0.654098  1.365113 -0.274882  ...  1.336765  -0.545373  1.892354\n",
      "4  0.932874  1.432747 -0.274882  ...  1.495512  -0.545373  1.892354\n",
      "\n",
      "[5 rows x 14 columns]\n"
     ]
    }
   ],
   "source": [
    "\n",
    "# Ініціалізуємо StandardScaler\n",
    "scaler = StandardScaler()\n",
    "\n",
    "# Нормалізуємо числові ознаки для тренувального та тестового наборів\n",
    "X_train_numerical_scaled = pd.DataFrame(scaler.fit_transform(X_train_numerical_imputed), columns=X_train_numerical_imputed.columns)\n",
    "X_test_numerical_scaled = pd.DataFrame(scaler.transform(X_test_numerical_imputed), columns=X_test_numerical_imputed.columns)\n",
    "\n",
    "# Перевіряємо результат нормалізації (перші кілька рядків)\n",
    "print(\"Перші кілька рядків тренувального набору після нормалізації:\")\n",
    "print(X_train_numerical_scaled.head())\n",
    "\n",
    "print(\"\\nПерші кілька рядків тестового набору після нормалізації:\")\n",
    "print(X_test_numerical_scaled.head())\n",
    "\n"
   ]
  },
  {
   "cell_type": "markdown",
   "id": "e042470d-4726-43c2-8f77-511b7d844f7d",
   "metadata": {},
   "source": [
    "### 6. Виконайте кодування категоріальних ознак за допомогою об’єкта OneHotEncoder з пакету sklearn."
   ]
  },
  {
   "cell_type": "code",
   "execution_count": 22,
   "id": "2425e334-e8c8-4b55-a646-d2c905b503c5",
   "metadata": {},
   "outputs": [],
   "source": [
    "from sklearn.preprocessing import OneHotEncoder\n"
   ]
  },
  {
   "cell_type": "code",
   "execution_count": 23,
   "id": "4355cacc-05a1-44ab-94d3-42a2eb6576fa",
   "metadata": {},
   "outputs": [],
   "source": [
    "# Ініціалізуємо OneHotEncoder із параметром drop='first'\n",
    "encoder = OneHotEncoder(drop='first', sparse_output=False, handle_unknown='ignore')\n"
   ]
  },
  {
   "cell_type": "code",
   "execution_count": 24,
   "id": "295e3e4b-48df-4ed6-b47a-a2a44841a422",
   "metadata": {},
   "outputs": [
    {
     "name": "stdout",
     "output_type": "stream",
     "text": [
      "Тренувальний набір категоріальних ознак після перетворення на строковий тип:\n",
      "  Location WindGustDir WindDir9am WindDir3pm Month\n",
      "0   Albury           W          W        WNW    12\n",
      "1   Albury         WNW        NNW        WSW    12\n",
      "2   Albury         WSW          W        WSW    12\n",
      "3   Albury          NE         SE          E    12\n",
      "4   Albury           W        ENE         NW    12\n",
      "\n",
      "Тестовий набір категоріальних ознак після перетворення на строковий тип:\n",
      "     Location WindGustDir WindDir9am WindDir3pm Month\n",
      "2864   Albury         WSW          E          W     1\n",
      "2865   Albury          SE        SSW        WNW     1\n",
      "2866   Albury          SE        SSE          W     1\n",
      "2867   Albury         NNW         SE         NE     1\n",
      "2868   Albury         SSE        ENE          N     1\n"
     ]
    }
   ],
   "source": [
    "# Перетворюємо всі категоріальні колонки на строковий тип\n",
    "X_train_categorical = X_train_categorical.astype(str)\n",
    "X_test_categorical = X_test_categorical.astype(str)\n",
    "\n",
    "# Перевіряємо перші кілька рядків після змін\n",
    "print(\"Тренувальний набір категоріальних ознак після перетворення на строковий тип:\")\n",
    "print(X_train_categorical.head())\n",
    "\n",
    "print(\"\\nТестовий набір категоріальних ознак після перетворення на строковий тип:\")\n",
    "print(X_test_categorical.head())\n"
   ]
  },
  {
   "cell_type": "code",
   "execution_count": 25,
   "id": "c4fcbc3a-5f87-488b-b14f-056e87d6209f",
   "metadata": {},
   "outputs": [
    {
     "name": "stdout",
     "output_type": "stream",
     "text": [
      "Розмір тренувального набору після кодування: (136837, 107)\n",
      "Розмір тестового набору після кодування: (8623, 107)\n",
      "\n",
      "Перші кілька рядків тренувального набору після кодування:\n",
      "   Location_Albany  Location_Albury  ...  Month_8  Month_9\n",
      "0              0.0              1.0  ...      0.0      0.0\n",
      "1              0.0              1.0  ...      0.0      0.0\n",
      "2              0.0              1.0  ...      0.0      0.0\n",
      "3              0.0              1.0  ...      0.0      0.0\n",
      "4              0.0              1.0  ...      0.0      0.0\n",
      "\n",
      "[5 rows x 107 columns]\n",
      "\n",
      "Перші кілька рядків тестового набору після кодування:\n",
      "   Location_Albany  Location_Albury  ...  Month_8  Month_9\n",
      "0              0.0              1.0  ...      0.0      0.0\n",
      "1              0.0              1.0  ...      0.0      0.0\n",
      "2              0.0              1.0  ...      0.0      0.0\n",
      "3              0.0              1.0  ...      0.0      0.0\n",
      "4              0.0              1.0  ...      0.0      0.0\n",
      "\n",
      "[5 rows x 107 columns]\n"
     ]
    }
   ],
   "source": [
    "# Кодуємо тренувальний і тестовий набори категоріальних ознак\n",
    "X_train_categorical_encoded = pd.DataFrame(\n",
    "    encoder.fit_transform(X_train_categorical),\n",
    "    columns=encoder.get_feature_names_out(X_train_categorical.columns)\n",
    ")\n",
    "\n",
    "X_test_categorical_encoded = pd.DataFrame(\n",
    "    encoder.transform(X_test_categorical),\n",
    "    columns=encoder.get_feature_names_out(X_test_categorical.columns)\n",
    ")\n",
    "\n",
    "# Перевіряємо розміри після кодування\n",
    "print(\"Розмір тренувального набору після кодування:\", X_train_categorical_encoded.shape)\n",
    "print(\"Розмір тестового набору після кодування:\", X_test_categorical_encoded.shape)\n",
    "\n",
    "# Виводимо перші кілька рядків для перевірки\n",
    "print(\"\\nПерші кілька рядків тренувального набору після кодування:\")\n",
    "print(X_train_categorical_encoded.head())\n",
    "\n",
    "print(\"\\nПерші кілька рядків тестового набору після кодування:\")\n",
    "print(X_test_categorical_encoded.head())"
   ]
  },
  {
   "cell_type": "markdown",
   "id": "cfc1e8a6-2f91-43e4-b98d-625a09bdf570",
   "metadata": {},
   "source": [
    "### 7. Об'єднайте підмножини з числовими і категоріальними ознаками (після кодування) для побудови моделі за допомогою об’єкта LogisticRegression з пакету sklearn."
   ]
  },
  {
   "cell_type": "code",
   "execution_count": 26,
   "id": "41c002dd-cd1e-4b3c-b64b-fad83db58a5a",
   "metadata": {},
   "outputs": [],
   "source": [
    "from sklearn.linear_model import LogisticRegression\n",
    "from sklearn.metrics import classification_report, accuracy_score"
   ]
  },
  {
   "cell_type": "code",
   "execution_count": 27,
   "id": "2658d960-8481-4b40-b749-4a7d826a0f1c",
   "metadata": {},
   "outputs": [
    {
     "name": "stdout",
     "output_type": "stream",
     "text": [
      "Розмір тренувального набору: (136837, 121)\n",
      "Розмір тестового набору: (8623, 121)\n",
      "\n",
      "Результати для тренувального набору:\n",
      "              precision    recall  f1-score   support\n",
      "\n",
      "         0.0       0.86      0.95      0.90    106723\n",
      "         1.0       0.72      0.46      0.56     30114\n",
      "\n",
      "    accuracy                           0.84    136837\n",
      "   macro avg       0.79      0.70      0.73    136837\n",
      "weighted avg       0.83      0.84      0.83    136837\n",
      "\n",
      "\n",
      "Результати для тестового набору:\n",
      "              precision    recall  f1-score   support\n",
      "\n",
      "         0.0       0.87      0.96      0.91      6860\n",
      "         1.0       0.72      0.42      0.53      1763\n",
      "\n",
      "    accuracy                           0.85      8623\n",
      "   macro avg       0.79      0.69      0.72      8623\n",
      "weighted avg       0.83      0.85      0.83      8623\n",
      "\n",
      "Точність на тренувальному наборі: 0.84\n",
      "Точність на тестовому наборі: 0.85\n"
     ]
    }
   ],
   "source": [
    "# Об'єднуємо числові та закодовані категоріальні ознаки\n",
    "X_train = pd.concat([X_train_numerical_scaled, X_train_categorical_encoded], axis=1)\n",
    "X_test = pd.concat([X_test_numerical_scaled, X_test_categorical_encoded], axis=1)\n",
    "\n",
    "# Перевіряємо розміри об'єднаних наборів\n",
    "print(f\"Розмір тренувального набору: {X_train.shape}\")\n",
    "print(f\"Розмір тестового набору: {X_test.shape}\")\n",
    "\n",
    "# Створюємо та навчаємо модель LogisticRegression\n",
    "model = LogisticRegression(max_iter=1000, random_state=42)\n",
    "model.fit(X_train, y_train)\n",
    "\n",
    "# Робимо передбачення\n",
    "y_pred_train = model.predict(X_train)\n",
    "y_pred_test = model.predict(X_test)\n",
    "\n",
    "# Оцінюємо модель\n",
    "print(\"\\nРезультати для тренувального набору:\")\n",
    "print(classification_report(y_train, y_pred_train))\n",
    "\n",
    "print(\"\\nРезультати для тестового набору:\")\n",
    "print(classification_report(y_test, y_pred_test))\n",
    "\n",
    "# Додатково: вивести точність\n",
    "print(f\"Точність на тренувальному наборі: {accuracy_score(y_train, y_pred_train):.2f}\")\n",
    "print(f\"Точність на тестовому наборі: {accuracy_score(y_test, y_pred_test):.2f}\")\n"
   ]
  },
  {
   "cell_type": "code",
   "execution_count": 28,
   "id": "81bbd7b1-6c24-4c30-b628-f1a272db464b",
   "metadata": {},
   "outputs": [
    {
     "name": "stdout",
     "output_type": "stream",
     "text": [
      "\n",
      "Експеримент із solver='liblinear'\n",
      "Точність на тестовому наборі: 0.85\n",
      "              precision    recall  f1-score   support\n",
      "\n",
      "         0.0       0.87      0.96      0.91      6860\n",
      "         1.0       0.72      0.42      0.53      1763\n",
      "\n",
      "    accuracy                           0.85      8623\n",
      "   macro avg       0.79      0.69      0.72      8623\n",
      "weighted avg       0.84      0.85      0.83      8623\n",
      "\n",
      "\n",
      "Експеримент із solver='lbfgs'\n",
      "Точність на тестовому наборі: 0.85\n",
      "              precision    recall  f1-score   support\n",
      "\n",
      "         0.0       0.87      0.96      0.91      6860\n",
      "         1.0       0.72      0.42      0.53      1763\n",
      "\n",
      "    accuracy                           0.85      8623\n",
      "   macro avg       0.79      0.69      0.72      8623\n",
      "weighted avg       0.83      0.85      0.83      8623\n",
      "\n",
      "\n",
      "Експеримент із solver='sag'\n",
      "Точність на тестовому наборі: 0.85\n",
      "              precision    recall  f1-score   support\n",
      "\n",
      "         0.0       0.87      0.96      0.91      6860\n",
      "         1.0       0.72      0.42      0.53      1763\n",
      "\n",
      "    accuracy                           0.85      8623\n",
      "   macro avg       0.79      0.69      0.72      8623\n",
      "weighted avg       0.84      0.85      0.83      8623\n",
      "\n",
      "\n",
      "Експеримент із solver='saga'\n",
      "Точність на тестовому наборі: 0.85\n",
      "              precision    recall  f1-score   support\n",
      "\n",
      "         0.0       0.87      0.96      0.91      6860\n",
      "         1.0       0.72      0.42      0.53      1763\n",
      "\n",
      "    accuracy                           0.85      8623\n",
      "   macro avg       0.79      0.69      0.72      8623\n",
      "weighted avg       0.84      0.85      0.83      8623\n",
      "\n"
     ]
    }
   ],
   "source": [
    "# Список гіперпараметрів solver для експериментів\n",
    "solvers = ['liblinear', 'lbfgs', 'sag', 'saga']\n",
    "\n",
    "# Цикл для експериментів із різними значеннями solver\n",
    "for solver in solvers:\n",
    "    print(f\"\\nЕксперимент із solver='{solver}'\")\n",
    "    \n",
    "    # Створюємо та навчаємо модель\n",
    "    model = LogisticRegression(solver=solver, max_iter=1000, random_state=42)\n",
    "    model.fit(X_train, y_train)\n",
    "    \n",
    "    # Робимо передбачення\n",
    "    y_pred_test = model.predict(X_test)\n",
    "    \n",
    "    # Оцінюємо модель\n",
    "    print(f\"Точність на тестовому наборі: {accuracy_score(y_test, y_pred_test):.2f}\")\n",
    "    print(classification_report(y_test, y_pred_test))\n"
   ]
  },
  {
   "cell_type": "markdown",
   "id": "df18abaa-97e1-4963-903e-fe226df819b2",
   "metadata": {},
   "source": [
    "### Додаткові метрики (рекомендовано для аналізу): Використовуйте класифікаційний звіт (classification_report) для детальної оцінки."
   ]
  },
  {
   "cell_type": "code",
   "execution_count": 29,
   "id": "065e841a-bb12-4a41-8b6f-b620b854becd",
   "metadata": {},
   "outputs": [
    {
     "name": "stdout",
     "output_type": "stream",
     "text": [
      "Результати для тестового набору з балансуванням класів:\n",
      "              precision    recall  f1-score   support\n",
      "\n",
      "         0.0       0.92      0.81      0.86      6860\n",
      "         1.0       0.49      0.72      0.59      1763\n",
      "\n",
      "    accuracy                           0.79      8623\n",
      "   macro avg       0.71      0.77      0.72      8623\n",
      "weighted avg       0.83      0.79      0.80      8623\n",
      "\n"
     ]
    }
   ],
   "source": [
    "# Логістична регресія з балансуванням класів\n",
    "model_balanced = LogisticRegression(class_weight='balanced', max_iter=1000, random_state=42)\n",
    "model_balanced.fit(X_train, y_train)\n",
    "\n",
    "# Передбачення\n",
    "y_pred_balanced = model_balanced.predict(X_test)\n",
    "\n",
    "# Оцінка моделі\n",
    "print(\"Результати для тестового набору з балансуванням класів:\")\n",
    "print(classification_report(y_test, y_pred_balanced))\n"
   ]
  },
  {
   "cell_type": "markdown",
   "id": "116c4c73-3803-42fb-87a7-5423be6ee7de",
   "metadata": {},
   "source": [
    "1. Зміни у метриках класу 1.0 (є дощ):\n",
    "\n",
    "    - Precision (точність): Зменшився з 72% до 49%. Це означає, що модель почала робити більше помилок, визначаючи випадки, коли дощ дійсно є (хибні позитиви зросли).\n",
    "    - Recall (повнота): Збільшився з 42% до 72%. Це вказує на те, що модель тепер краще розпізнає випадки, коли дощ дійсно є, хоча це супроводжується зниженням точності.\n",
    "    - F1-score: Зріс із 53% до 59%. Це свідчить про загальне покращення в балансуванні між точністю і повнотою для класу 1.0.\n",
    "\n",
    "2. Зміни у метриках класу 0.0 (немає дощу):\n",
    "\n",
    "    - Precision: Покращився із 87% до 92%.\n",
    "    - Recall: Знизився із 96% до 81%.\n",
    "    - F1-score: Знизився із 91% до 86%.\n",
    "\n",
    "3. Загальні метрики (accuracy, macro avg, weighted avg):\n",
    "\n",
    "    - Загальна accuracy зменшилась із 85% до 79%, що очікувано через балансування класів.\n",
    "    - Macro avg: Зросло до 77% для recall завдяки покращенню для класу 1.0.\n",
    "    - Weighted avg: Незначне зменшення значення f1-score з 83% до 80%.\n",
    "\n"
   ]
  },
  {
   "cell_type": "markdown",
   "id": "05b4ecd4-522c-4dbe-a283-ac1a5217601c",
   "metadata": {},
   "source": [
    "### Додаткові метрики (рекомендовано для аналізу): Використовуйте класифікаційний звіт (classification_report) для детальної оцінки."
   ]
  },
  {
   "cell_type": "code",
   "execution_count": 30,
   "id": "42feb9f0-4ef7-4571-a1b0-0741329dcd0f",
   "metadata": {},
   "outputs": [
    {
     "name": "stdout",
     "output_type": "stream",
     "text": [
      "Результати для нової моделі (з балансуванням класів):\n",
      "              precision    recall  f1-score   support\n",
      "\n",
      "         0.0       0.92      0.81      0.86      6860\n",
      "         1.0       0.49      0.72      0.59      1763\n",
      "\n",
      "    accuracy                           0.79      8623\n",
      "   macro avg       0.71      0.77      0.72      8623\n",
      "weighted avg       0.83      0.79      0.80      8623\n",
      "\n"
     ]
    }
   ],
   "source": [
    "from sklearn.metrics import classification_report\n",
    "\n",
    "# Результати нової моделі\n",
    "print(\"Результати для нової моделі (з балансуванням класів):\")\n",
    "print(classification_report(y_test, y_pred_balanced))\n"
   ]
  },
  {
   "cell_type": "code",
   "execution_count": 35,
   "id": "df286dac-4dd2-4518-8154-f7b96ed73e87",
   "metadata": {},
   "outputs": [
    {
     "name": "stdout",
     "output_type": "stream",
     "text": [
      "Унікальні значення після перекодування: {np.int64(0), np.int64(1)}\n"
     ]
    },
    {
     "data": {
      "image/png": "[encoded data removed]",
      "text/plain": [
       "<Figure size 640x480 with 1 Axes>"
      ]
     },
     "metadata": {},
     "output_type": "display_data"
    }
   ],
   "source": [
    "from sklearn.metrics import roc_curve, roc_auc_score\n",
    "import matplotlib.pyplot as plt \n",
    "\n",
    "# Отримання ймовірностей для тестового набору\n",
    "y_prob = model.predict_proba(X_test)[:, 1]  # Ймовірності для позитивного класу (клас 1)\n",
    "\n",
    "# Перекодування цільової змінної\n",
    "le = LabelEncoder()\n",
    "y_test_numeric = le.fit_transform(y_test)  # 'No' -> 0, 'Yes' -> 1\n",
    "\n",
    "# Перевірка перекодування\n",
    "print(f\"Унікальні значення після перекодування: {set(y_test_numeric)}\")  # Має бути {0, 1}\n",
    "\n",
    "# Побудова ROC-кривої\n",
    "fpr, tpr, thresholds = roc_curve(y_test_numeric, y_prob)\n",
    "\n",
    "# Розрахунок AUC\n",
    "auc_score = roc_auc_score(y_test_numeric, y_prob)\n",
    "\n",
    "# Побудова графіка\n",
    "plt.plot(fpr, tpr, label=f\"ROC curve (AUC = {auc_score:.2f})\")\n",
    "plt.xlabel(\"False Positive Rate\")\n",
    "plt.ylabel(\"True Positive Rate\")\n",
    "plt.legend(loc=\"lower right\")\n",
    "plt.show()\n"
   ]
  },
  {
   "cell_type": "markdown",
   "id": "f3fc4815-ebb5-4321-bd97-aff0f2696c9b",
   "metadata": {},
   "source": [
    "### Висновки:\n",
    "Модель добре справляється із класифікацією:\n",
    "\n",
    "AUC = 0.84 означає, що модель має високий рівень передбачення правильних результатів.\n"
   ]
  },
  {
   "cell_type": "code",
   "execution_count": null,
   "id": "feb3530e-b92b-47ad-8599-05a7679a85c6",
   "metadata": {},
   "outputs": [],
   "source": []
  }
 ],
 "metadata": {
  "kernelspec": {
   "display_name": "Python 3 (Spyder)",
   "language": "python3",
   "name": "python3"
  },
  "language_info": {
   "codemirror_mode": {
    "name": "ipython",
    "version": 3
   },
   "file_extension": ".py",
   "mimetype": "text/x-python",
   "name": "python",
   "nbconvert_exporter": "python",
   "pygments_lexer": "ipython3",
   "version": "3.11.10"
  }
 },
 "nbformat": 4,
 "nbformat_minor": 5
}
