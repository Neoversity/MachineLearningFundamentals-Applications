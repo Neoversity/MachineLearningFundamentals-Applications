{
 "cells": [
  {
   "cell_type": "markdown",
   "id": "c1d7ae40-8c33-4638-b868-6c85fb96bf86",
   "metadata": {},
   "source": [
    "### 1. Здійсніть імпорт необхідних пакетів."
   ]
  },
  {
   "cell_type": "code",
   "execution_count": 1,
   "id": "6476a512-574a-430d-84e8-65361ef1c8a9",
   "metadata": {},
   "outputs": [],
   "source": [
    "import pandas as pd\n",
    "import numpy as np\n",
    "from sklearn.preprocessing import StandardScaler, PowerTransformer, OneHotEncoder\n",
    "from sklearn.neighbors import KNeighborsRegressor\n",
    "from sklearn.metrics import mean_squared_error, r2_score\n",
    "from category_encoders import TargetEncoder\n",
    "import matplotlib.pyplot as plt\n",
    "import seaborn as sns\n",
    "\n"
   ]
  },
  {
   "cell_type": "markdown",
   "id": "28a5d9c4-b8d2-4f04-8d7a-b541df3e4b76",
   "metadata": {},
   "source": [
    "### 2. Завантажте тренувальний mod_04_hw_train_data.csv і валідаційний mod_04_hw_valid_data.csv"
   ]
  },
  {
   "cell_type": "code",
   "execution_count": 2,
   "id": "f0d1fcf4-3c4c-4a05-acd7-0ef1e74899f7",
   "metadata": {},
   "outputs": [
    {
     "data": {
      "text/plain": [
       "(                 Name  Phone_Number  Experience  ... Cert Date_Of_Birth  Salary\n",
       " 0  Jennifer Hernandez  120-602-1220         3.0  ...  Yes    25/08/1972   98000\n",
       " 1      Timothy Walker  840-675-8650         5.0  ...  Yes    03/12/2013  135500\n",
       " 2         David Duran  556-293-8643         5.0  ...  Yes    19/07/2002  123500\n",
       " 3       Gloria Ortega  463-559-7474         3.0  ...   No    19/02/1970   85000\n",
       " 4      Matthew Steele  968-091-7683         5.0  ...  Yes    20/02/1970  111500\n",
       " \n",
       " [5 rows x 9 columns],\n",
       "               Name  Phone_Number  Experience  ... Cert Date_Of_Birth  Salary\n",
       " 0   Alvaro Johnson  320-636-8883           7  ...   No    12/03/1978  109300\n",
       " 1    Austin Powers  903-121-1691           2  ...  Yes    13/03/1992   84800\n",
       " 2      Joshua Phil  673-972-2453           3  ...  Yes    19/02/1988   98900\n",
       " 3  Mirinda Collins  310-364-6925           5  ...   No    20/03/1989  116500\n",
       " 4   Mustapha Green  401-249-3912           3  ...  Yes    21/03/1979   75800\n",
       " \n",
       " [5 rows x 9 columns])"
      ]
     },
     "execution_count": 2,
     "metadata": {},
     "output_type": "execute_result"
    }
   ],
   "source": [
    "# Завантаження тренувального набору\n",
    "train_data = pd.read_csv(\"mod_04_hw_train_data.csv\")\n",
    "\n",
    "# Завантаження валідаційного набору\n",
    "valid_data = pd.read_csv(\"mod_04_hw_valid_data.csv\")\n",
    "\n",
    "# Виведемо перші рядки для огляду даних\n",
    "train_data.head(), valid_data.head()\n"
   ]
  },
  {
   "cell_type": "markdown",
   "id": "60e1811b-bf85-4205-8068-f42045eafc44",
   "metadata": {},
   "source": [
    "### 3. Виконайте первинний дослідницький аналіз даних (EDA), визначте придатність і доцільність використання наявних в наборі ознак для моделювання."
   ]
  },
  {
   "cell_type": "code",
   "execution_count": 3,
   "id": "d863ebae-2a81-42a6-bcc7-416b90ae454d",
   "metadata": {},
   "outputs": [],
   "source": [
    "# Перевіримо наявність пропусків у тренувальному та валідаційному наборах даних\n",
    "missing_train = train_data.isnull().sum()\n",
    "missing_valid = valid_data.isnull().sum()"
   ]
  },
  {
   "cell_type": "code",
   "execution_count": 4,
   "id": "c775534d-0e52-4b16-9e83-7e3542868a7e",
   "metadata": {},
   "outputs": [
    {
     "name": "stdout",
     "output_type": "stream",
     "text": [
      "Аналіз пропусків у тренувальному наборі даних:\n",
      "               Train Missing Before  Train Missing After\n",
      "Name                              0                    0\n",
      "Phone_Number                      0                    0\n",
      "Experience                        2                    2\n",
      "Qualification                     1                    1\n",
      "University                        0                    0\n",
      "Role                              3                    3\n",
      "Cert                              2                    2\n",
      "Date_Of_Birth                     0                    0\n",
      "Salary                            0                    0\n",
      "\n",
      "Аналіз пропусків у валідаційному наборі даних:\n",
      "               Valid Missing Before  Valid Missing After\n",
      "Name                              0                    0\n",
      "Phone_Number                      0                    0\n",
      "Experience                        0                    0\n",
      "Qualification                     0                    0\n",
      "University                        0                    0\n",
      "Role                              0                    0\n",
      "Cert                              0                    0\n",
      "Date_Of_Birth                     0                    0\n",
      "Salary                            0                    0\n"
     ]
    }
   ],
   "source": [
    "missing_data_analysis = pd.DataFrame({\n",
    "    \"Train Missing Before\": missing_train,\n",
    "    \"Train Missing After\": train_data.isnull().sum(),\n",
    "    \"Valid Missing Before\": missing_valid,\n",
    "    \"Valid Missing After\": valid_data.isnull().sum()\n",
    "})\n",
    "\n",
    "# Виведемо результати аналізу пропусків у текстовому форматі\n",
    "print(\"Аналіз пропусків у тренувальному наборі даних:\")\n",
    "print(missing_data_analysis[[\"Train Missing Before\", \"Train Missing After\"]])\n",
    "\n",
    "print(\"\\nАналіз пропусків у валідаційному наборі даних:\")\n",
    "print(missing_data_analysis[[\"Valid Missing Before\", \"Valid Missing After\"]])"
   ]
  },
  {
   "cell_type": "code",
   "execution_count": 5,
   "id": "dfd37dc9-8510-4c5b-8cf3-0bea235ab1cf",
   "metadata": {},
   "outputs": [
    {
     "data": {
      "text/plain": [
       "(   Experience Qualification University    Role Cert  Salary  Age\n",
       " 0         3.0           Msc      Tier2     Mid  Yes   98000   52\n",
       " 1         5.0           PhD      Tier2  Senior  Yes  135500   11\n",
       " 2         5.0           Msc      Tier2  Senior  Yes  123500   22\n",
       " 3         3.0           Bsc      Tier3     Mid   No   85000   54\n",
       " 4         5.0           Bsc      Tier2  Senior  Yes  111500   54,\n",
       "    Experience Qualification University    Role Cert  Salary  Age\n",
       " 0           7           Bsc      Tier1  Senior   No  109300   46\n",
       " 1           2           Msc      Tier1     Mid  Yes   84800   32\n",
       " 2           3           Bsc      Tier3     Mid  Yes   98900   36\n",
       " 3           5           Msc      Tier2  Senior   No  116500   35\n",
       " 4           3           PhD      Tier1  Junior  Yes   75800   45)"
      ]
     },
     "execution_count": 5,
     "metadata": {},
     "output_type": "execute_result"
    }
   ],
   "source": [
    "from datetime import datetime\n",
    "\n",
    "# Видалимо стовпці 'Name' та 'Phone_Number'\n",
    "train_data.drop(columns=['Name', 'Phone_Number'], inplace=True)\n",
    "valid_data.drop(columns=['Name', 'Phone_Number'], inplace=True)\n",
    "\n",
    "# Перетворимо 'Date_Of_Birth' у вік (кількість років)\n",
    "current_year = datetime.now().year\n",
    "\n",
    "train_data['Age'] = train_data['Date_Of_Birth'].apply(lambda x: current_year - int(x.split('/')[-1]))\n",
    "valid_data['Age'] = valid_data['Date_Of_Birth'].apply(lambda x: current_year - int(x.split('/')[-1]))\n",
    "\n",
    "# Видалимо стовпець 'Date_Of_Birth', оскільки ми вже отримали вік\n",
    "train_data.drop(columns=['Date_Of_Birth'], inplace=True)\n",
    "valid_data.drop(columns=['Date_Of_Birth'], inplace=True)\n",
    "\n",
    "# Перевіримо, як тепер виглядають набори даних\n",
    "train_data.head(), valid_data.head()\n"
   ]
  },
  {
   "cell_type": "code",
   "execution_count": 6,
   "id": "4d4a2db5-838b-4eee-9c5e-66d295fc466e",
   "metadata": {},
   "outputs": [
    {
     "data": {
      "text/plain": [
       "Experience       0\n",
       "Qualification    0\n",
       "University       0\n",
       "Role             0\n",
       "Cert             0\n",
       "Salary           0\n",
       "Age              0\n",
       "dtype: int64"
      ]
     },
     "execution_count": 6,
     "metadata": {},
     "output_type": "execute_result"
    }
   ],
   "source": [
    "# Заповнимо пропуски у тренувальному наборі\n",
    "train_data.fillna({\n",
    "    'Experience': train_data['Experience'].mean(),\n",
    "    'Qualification': train_data['Qualification'].mode()[0],\n",
    "    'Role': train_data['Role'].mode()[0],\n",
    "    'Cert': train_data['Cert'].mode()[0]\n",
    "}, inplace=True)\n",
    "\n",
    "# Перевіримо, чи залишилися пропуски\n",
    "missing_train_final = train_data.isnull().sum()\n",
    "missing_train_final\n"
   ]
  },
  {
   "cell_type": "markdown",
   "id": "c74af3e8-62a0-4717-bac4-f0d6db655501",
   "metadata": {},
   "source": [
    "### Крок 4: Масштабування числових ознак"
   ]
  },
  {
   "cell_type": "code",
   "execution_count": 7,
   "id": "0d307eb2-08bb-4a9c-9dda-d28b6a52d0c2",
   "metadata": {},
   "outputs": [
    {
     "data": {
      "text/plain": [
       "(   Experience Qualification University    Role Cert  Salary       Age\n",
       " 0   -0.296683           Msc      Tier2     Mid  Yes   98000  1.346807\n",
       " 1    1.047919           PhD      Tier2  Senior  Yes  135500 -2.079446\n",
       " 2    1.047919           Msc      Tier2  Senior  Yes  123500 -1.160208\n",
       " 3   -0.296683           Bsc      Tier3     Mid   No   85000  1.513942\n",
       " 4    1.047919           Bsc      Tier2  Senior  Yes  111500  1.513942,\n",
       "    Experience Qualification University    Role Cert  Salary       Age\n",
       " 0   -0.367882           Msc      Tier2     Mid  Yes   98000  1.407452\n",
       " 1    1.080821           PhD      Tier2  Senior  Yes  135500 -1.945406\n",
       " 2    1.080821           Msc      Tier2  Senior  Yes  123500 -1.172305\n",
       " 3   -0.367882           Bsc      Tier3     Mid   No   85000  1.597059\n",
       " 4    1.080821           Bsc      Tier2  Senior  Yes  111500  1.597059)"
      ]
     },
     "execution_count": 7,
     "metadata": {},
     "output_type": "execute_result"
    }
   ],
   "source": [
    "# Ініціалізація трансформерів\n",
    "scaler_standard = StandardScaler()\n",
    "scaler_power = PowerTransformer()\n",
    "\n",
    "# Вибір числових змінних для трансформації\n",
    "numerical_features = ['Experience', 'Age']\n",
    "\n",
    "# Масштабування за допомогою StandardScaler\n",
    "train_data_standard = train_data.copy()\n",
    "valid_data_standard = valid_data.copy()\n",
    "\n",
    "train_data_standard[numerical_features] = scaler_standard.fit_transform(train_data[numerical_features])\n",
    "valid_data_standard[numerical_features] = scaler_standard.transform(valid_data[numerical_features])\n",
    "\n",
    "# Масштабування за допомогою PowerTransformer\n",
    "train_data_power = train_data.copy()\n",
    "valid_data_power = valid_data.copy()\n",
    "\n",
    "train_data_power[numerical_features] = scaler_power.fit_transform(train_data[numerical_features])\n",
    "valid_data_power[numerical_features] = scaler_power.transform(valid_data[numerical_features])\n",
    "\n",
    "# Перевіримо результати трансформацій\n",
    "train_data_standard.head(), train_data_power.head()\n"
   ]
  },
  {
   "cell_type": "code",
   "execution_count": 8,
   "id": "1edb55bb-0fcd-45da-a676-3097c5c7f3ca",
   "metadata": {},
   "outputs": [
    {
     "data": {
      "text/plain": [
       "(   Experience  Salary       Age  ...  Role_Mid  Role_Senior  Cert_Yes\n",
       " 0   -0.296683   98000  1.346807  ...       1.0          0.0       1.0\n",
       " 1    1.047919  135500 -2.079446  ...       0.0          1.0       1.0\n",
       " 2    1.047919  123500 -1.160208  ...       0.0          1.0       1.0\n",
       " 3   -0.296683   85000  1.513942  ...       1.0          0.0       0.0\n",
       " 4    1.047919  111500  1.513942  ...       0.0          1.0       1.0\n",
       " \n",
       " [5 rows x 10 columns],\n",
       "    Experience  Salary       Age  ...  Role_Mid  Role_Senior  Cert_Yes\n",
       " 0   -0.367882   98000  1.407452  ...       1.0          0.0       1.0\n",
       " 1    1.080821  135500 -1.945406  ...       0.0          1.0       1.0\n",
       " 2    1.080821  123500 -1.172305  ...       0.0          1.0       1.0\n",
       " 3   -0.367882   85000  1.597059  ...       1.0          0.0       0.0\n",
       " 4    1.080821  111500  1.597059  ...       0.0          1.0       1.0\n",
       " \n",
       " [5 rows x 10 columns])"
      ]
     },
     "execution_count": 8,
     "metadata": {},
     "output_type": "execute_result"
    }
   ],
   "source": [
    "# Ініціалізація OneHotEncoder для кодування категоріальних змінних\n",
    "encoder = OneHotEncoder(sparse_output=False, drop='first')  # Drop='first' для уникнення мультиколінеарності\n",
    "categorical_features = ['Qualification', 'University', 'Role', 'Cert']\n",
    "\n",
    "# Кодування для StandardScaler трансформованих даних\n",
    "encoded_train_standard = encoder.fit_transform(train_data_standard[categorical_features])\n",
    "encoded_train_standard_df = pd.DataFrame(\n",
    "    encoded_train_standard, \n",
    "    columns=encoder.get_feature_names_out(categorical_features)\n",
    ")\n",
    "train_data_standard_encoded = pd.concat(\n",
    "    [train_data_standard.drop(columns=categorical_features), encoded_train_standard_df], axis=1\n",
    ")\n",
    "\n",
    "encoded_valid_standard = encoder.transform(valid_data_standard[categorical_features])\n",
    "encoded_valid_standard_df = pd.DataFrame(\n",
    "    encoded_valid_standard, \n",
    "    columns=encoder.get_feature_names_out(categorical_features)\n",
    ")\n",
    "valid_data_standard_encoded = pd.concat(\n",
    "    [valid_data_standard.drop(columns=categorical_features), encoded_valid_standard_df], axis=1\n",
    ")\n",
    "\n",
    "# Кодування для PowerTransformer трансформованих даних\n",
    "encoded_train_power = encoder.fit_transform(train_data_power[categorical_features])\n",
    "encoded_train_power_df = pd.DataFrame(\n",
    "    encoded_train_power, \n",
    "    columns=encoder.get_feature_names_out(categorical_features)\n",
    ")\n",
    "train_data_power_encoded = pd.concat(\n",
    "    [train_data_power.drop(columns=categorical_features), encoded_train_power_df], axis=1\n",
    ")\n",
    "\n",
    "encoded_valid_power = encoder.transform(valid_data_power[categorical_features])\n",
    "encoded_valid_power_df = pd.DataFrame(\n",
    "    encoded_valid_power, \n",
    "    columns=encoder.get_feature_names_out(categorical_features)\n",
    ")\n",
    "valid_data_power_encoded = pd.concat(\n",
    "    [valid_data_power.drop(columns=categorical_features), encoded_valid_power_df], axis=1\n",
    ")\n",
    "\n",
    "# Перевіримо, як виглядають дані після кодування\n",
    "train_data_standard_encoded.head(), train_data_power_encoded.head()\n"
   ]
  },
  {
   "cell_type": "markdown",
   "id": "d63ce563-166f-4581-a69b-c1176e0ec68d",
   "metadata": {},
   "source": [
    "### Крок 5: Побудова моделі за допомогою KNeighborsRegressor"
   ]
  },
  {
   "cell_type": "code",
   "execution_count": 9,
   "id": "7fcd7a70-77de-4048-968c-e14957dff187",
   "metadata": {},
   "outputs": [],
   "source": [
    "# Розділення даних на ознаки (features) та цільову змінну (target)\n",
    "X_train_standard = train_data_standard_encoded.drop(columns=['Salary'])\n",
    "y_train_standard = train_data_standard_encoded['Salary']\n",
    "\n",
    "X_valid_standard = valid_data_standard_encoded.drop(columns=['Salary'])\n",
    "y_valid_standard = valid_data_standard_encoded['Salary']\n",
    "\n",
    "# Побудова моделі KNeighborsRegressor для StandardScaler даних\n",
    "knn_model_standard = KNeighborsRegressor(n_neighbors=5)\n",
    "knn_model_standard.fit(X_train_standard, y_train_standard)\n",
    "\n",
    "# Прогноз для валідаційного набору\n",
    "y_pred_standard = knn_model_standard.predict(X_valid_standard)\n",
    "\n",
    "\n"
   ]
  },
  {
   "cell_type": "markdown",
   "id": "54b370a2-0e25-431c-9e41-590d50ef8ba4",
   "metadata": {},
   "source": [
    "### Крок 6: Оцінка точності моделі (MAPE)"
   ]
  },
  {
   "cell_type": "code",
   "execution_count": 10,
   "id": "b56961d3-b845-4171-9e24-e0846309c07a",
   "metadata": {},
   "outputs": [
    {
     "name": "stdout",
     "output_type": "stream",
     "text": [
      "Validation MAPE (StandardScaler): 11.11%\n",
      "Validation MAPE (PowerTransformer): 11.11%\n"
     ]
    }
   ],
   "source": [
    "from sklearn.metrics import mean_absolute_percentage_error\n",
    "# Обчислення MAPE\n",
    "mape_standard = mean_absolute_percentage_error(y_valid_standard, y_pred_standard)\n",
    "\n",
    "# Аналогічно для PowerTransformer\n",
    "X_train_power = train_data_power_encoded.drop(columns=['Salary'])\n",
    "y_train_power = train_data_power_encoded['Salary']\n",
    "\n",
    "X_valid_power = valid_data_power_encoded.drop(columns=['Salary'])\n",
    "y_valid_power = valid_data_power_encoded['Salary']\n",
    "\n",
    "knn_model_power = KNeighborsRegressor(n_neighbors=5)\n",
    "knn_model_power.fit(X_train_power, y_train_power)\n",
    "\n",
    "y_pred_power = knn_model_power.predict(X_valid_power)\n",
    "mape_power = mean_absolute_percentage_error(y_valid_power, y_pred_power)\n",
    "\n",
    "# Виведемо результати\n",
    "print(f\"Validation MAPE (StandardScaler): {mape_standard:.2%}\")\n",
    "print(f\"Validation MAPE (PowerTransformer): {mape_power:.2%}\")"
   ]
  },
  {
   "cell_type": "markdown",
   "id": "3411810c-d7fe-4285-9d58-395477a40d13",
   "metadata": {},
   "source": [
    "### Крок 7: Розрахунок додаткових метрик точності (MSE, R2)"
   ]
  },
  {
   "cell_type": "code",
   "execution_count": 11,
   "id": "29773bf1-15ea-41e8-b651-ba82662ce1e6",
   "metadata": {},
   "outputs": [
    {
     "name": "stdout",
     "output_type": "stream",
     "text": [
      "StandardScaler Results:\n",
      " - Validation MAPE: 11.11%\n",
      " - Validation MSE: 140841428.57\n",
      " - Validation R2: 0.44\n",
      "\n",
      "PowerTransformer Results:\n",
      " - Validation MAPE: 11.11%\n",
      " - Validation MSE: 140841428.57\n",
      " - Validation R2: 0.44\n"
     ]
    }
   ],
   "source": [
    "# Розрахуємо метрики точності регресійної моделі для StandardScaler\n",
    "\n",
    "# Mean Squared Error (MSE) для StandardScaler\n",
    "mse_standard = mean_squared_error(y_valid_standard, y_pred_standard)\n",
    "\n",
    "# R-squared (R2) для StandardScaler\n",
    "r2_standard = r2_score(y_valid_standard, y_pred_standard)\n",
    "\n",
    "# Розрахуємо метрики для PowerTransformer\n",
    "mse_power = mean_squared_error(y_valid_power, y_pred_power)\n",
    "r2_power = r2_score(y_valid_power, y_pred_power)\n",
    "\n",
    "# Виведемо результати\n",
    "print(f\"StandardScaler Results:\")\n",
    "print(f\" - Validation MAPE: {mape_standard:.2%}\")\n",
    "print(f\" - Validation MSE: {mse_standard:.2f}\")\n",
    "print(f\" - Validation R2: {r2_standard:.2f}\")\n",
    "\n",
    "print(f\"\\nPowerTransformer Results:\")\n",
    "print(f\" - Validation MAPE: {mape_power:.2%}\")\n",
    "print(f\" - Validation MSE: {mse_power:.2f}\")\n",
    "print(f\" - Validation R2: {r2_power:.2f}\")\n"
   ]
  },
  {
   "cell_type": "markdown",
   "id": "c8b68edd-ede5-4f40-b4c3-1aecd503764b",
   "metadata": {},
   "source": [
    "### Висновок:\n",
    "\n",
    "1. MAPE (Mean Absolute Percentage Error): Обидва методи масштабування, StandardScaler і PowerTransformer, продемонстрували однаковий результат MAPE на рівні 11.11%. Це свідчить про те, що обраний спосіб трансформації числових змінних суттєво не вплинув на якість моделі.\n",
    "\n",
    "2. MSE (Mean Squared Error): Значення середньоквадратичної помилки (MSE) для обох методів також однакове та становить 140841428.57. Це вказує на те, що модель має однакову помилку в прогнозах незалежно від використаного методу масштабування.\n",
    "\n",
    "3. R2 (Коефіцієнт детермінації): Значення R2 дорівнює 0.44, що свідчить про те, що модель пояснює лише 44% варіації цільової змінної. Це середній рівень пояснювальної здатності.\n",
    "\n",
    "4. Оцінка масштабування: Незважаючи на використання двох методів (StandardScaler і PowerTransformer), вони не вплинули на результативність моделі. Це може вказувати на те, що числові змінні вже мали оптимальний розподіл для методу KNeighborsRegressor.\n",
    "\n",
    "5. Рекомендації: Для покращення моделі можна:\n",
    "\n",
    "    - Спробувати налаштувати параметр n_neighbors у KNeighborsRegressor.\n",
    "    - Дослідити важливість кожної ознаки для виявлення потенційно \"шумових\" змінних.\n",
    "    - Використати інші алгоритми регресії, такі як RandomForestRegressor або GradientBoostingRegressor, які можуть забезпечити кращу пояснювальну здатність.\n",
    "    - Виконати додаткову інженерію ознак, зокрема створити нові змінні або перетворити існуючі."
   ]
  },
  {
   "cell_type": "code",
   "execution_count": null,
   "id": "4838a75c-afd0-4ecc-afdd-441063e851c7",
   "metadata": {},
   "outputs": [],
   "source": []
  }
 ],
 "metadata": {
  "kernelspec": {
   "display_name": "Python 3 (Spyder)",
   "language": "python3",
   "name": "python3"
  },
  "language_info": {
   "codemirror_mode": {
    "name": "ipython",
    "version": 3
   },
   "file_extension": ".py",
   "mimetype": "text/x-python",
   "name": "python",
   "nbconvert_exporter": "python",
   "pygments_lexer": "ipython3",
   "version": "3.11.10"
  }
 },
 "nbformat": 4,
 "nbformat_minor": 5
}
