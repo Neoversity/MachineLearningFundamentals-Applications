{
 "cells": [
  {
   "cell_type": "code",
   "execution_count": null,
   "id": "ee2668be-ec6c-4535-bd8c-8a79ded0d15a",
   "metadata": {},
   "outputs": [],
   "source": [
    "import torch\n",
    "import time\n",
    "\n",
    "# Перевірка доступності GPU\n",
    "device = torch.device('cuda' if torch.cuda.is_available() else 'cpu')\n",
    "\n",
    "# Генерація великих матриць\n",
    "size = 10000\n",
    "a = torch.randn(size, size, device=device)\n",
    "b = torch.randn(size, size, device=device)\n",
    "\n",
    "# Тест множення матриць\n",
    "start_time = time.time()\n",
    "c = torch.matmul(a, b)\n",
    "torch.cuda.synchronize()  # Синхронізація для точності вимірювань\n",
    "end_time = time.time()\n",
    "\n",
    "print(f\"Time taken on {device}: {end_time - start_time:.2f} seconds\")\n"
   ]
  },
  {
   "cell_type": "code",
   "execution_count": null,
   "id": "11adec91-97ca-4be6-b466-a8ae7a44bb71",
   "metadata": {},
   "outputs": [],
   "source": [
    "import tensorflow as tf\n",
    "import time\n",
    "\n",
    "# Перевірка доступності GPU\n",
    "print(\"GPU Available: \", tf.config.list_physical_devices('GPU'))\n",
    "\n",
    "# Генерація великих матриць\n",
    "size = 10000\n",
    "a = tf.random.normal([size, size])\n",
    "b = tf.random.normal([size, size])\n",
    "\n",
    "# Тест множення матриць\n",
    "start_time = time.time()\n",
    "c = tf.matmul(a, b)\n",
    "end_time = time.time()\n",
    "\n",
    "print(f\"Time taken: {end_time - start_time:.2f} seconds\")"
   ]
  },
  {
   "cell_type": "code",
   "execution_count": 3,
   "id": "3f5e2cc8-2cf6-492c-9a27-422e3814f5d8",
   "metadata": {},
   "outputs": [
    {
     "name": "stdout",
     "output_type": "stream",
     "text": [
      "GPU Available:  []\n",
      "AttributeError: module 'ml_dtypes' has no attribute 'float8_e3m4'\n",
      "Time taken: 4.72 seconds\n"
     ]
    }
   ],
   "source": [
    "import tensorflow as tf\n",
    "import time\n",
    "\n",
    "# Увімкнення логування пристроїв\n",
    "tf.debugging.set_log_device_placement(True)\n",
    "\n",
    "# Перевірка доступності GPU\n",
    "print(\"GPU Available: \", tf.config.list_physical_devices('GPU'))\n",
    "\n",
    "# Генерація великих матриць\n",
    "size = 10000  # Можна спробувати більші розміри, якщо вистачить пам’яті GPU\n",
    "a = tf.random.normal([size, size])\n",
    "b = tf.random.normal([size, size])\n",
    "\n",
    "# Тест множення матриць\n",
    "start_time = time.time()\n",
    "c = tf.matmul(a, b)\n",
    "c.numpy()  # Примусове виконання операції\n",
    "end_time = time.time()\n",
    "\n",
    "print(f\"Time taken: {end_time - start_time:.2f} seconds\")\n"
   ]
  },
  {
   "cell_type": "code",
   "execution_count": null,
   "id": "fe6824b8-64b0-4fa3-a1c4-38b4334af36a",
   "metadata": {},
   "outputs": [],
   "source": []
  }
 ],
 "metadata": {
  "kernelspec": {
   "display_name": "Python 3 (Spyder)",
   "language": "python3",
   "name": "python3"
  },
  "language_info": {
   "codemirror_mode": {
    "name": "ipython",
    "version": 3
   },
   "file_extension": ".py",
   "mimetype": "text/x-python",
   "name": "python",
   "nbconvert_exporter": "python",
   "pygments_lexer": "ipython3",
   "version": "3.11.10"
  }
 },
 "nbformat": 4,
 "nbformat_minor": 5
}
